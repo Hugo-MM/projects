{
 "cells": [
  {
   "cell_type": "markdown",
   "metadata": {},
   "source": [
    "# Outline of the Conversion Rates project\n",
    "#### 1. Business objective\n",
    "#### 2. EDA\n",
    "#### 3. Logisitic Regression\n",
    "#### 4. Decision Trees and Random Forest\n",
    "#### 5. Recommendations using realistic business information"
   ]
  },
  {
   "cell_type": "markdown",
   "metadata": {},
   "source": [
    "## 1. Business objective"
   ]
  },
  {
   "cell_type": "markdown",
   "metadata": {},
   "source": [
    "#### The data is composed of information about users of a website (country, age, new_user boolean, source i.e. how they discovered the website, total pages visited on the website) and wether each user has subscribed to the newsletter or not ('converted')."
   ]
  },
  {
   "cell_type": "markdown",
   "metadata": {},
   "source": [
    "#### We aim at providing two types of information for the persons running this website :\n",
    "- the best possible model to predict wether a user is converted or not using every information available (see part 3 and 4)\n",
    "- propose some recommendations in the perspective of targeting new users in order to maximize the probality of 'converting' them (i.e. find the most likely users to subscribe to the newsletter). (see part 5)"
   ]
  },
  {
   "cell_type": "markdown",
   "metadata": {},
   "source": [
    "#### The main metric used to qualify the performance of our model will be the f1-score (harmonic mean of recall and precision) for class 1 :\n",
    "#### f-1 score = 2 * Precision * Recall / (Precision + Recall)"
   ]
  },
  {
   "cell_type": "markdown",
   "metadata": {},
   "source": [
    "## 2. Exploratory Data Analysis"
   ]
  },
  {
   "cell_type": "code",
   "execution_count": 16,
   "metadata": {},
   "outputs": [],
   "source": [
    "# Importation and installation of useful librairies"
   ]
  },
  {
   "cell_type": "code",
   "execution_count": 1,
   "metadata": {},
   "outputs": [],
   "source": [
    "!pip install plotly -q"
   ]
  },
  {
   "cell_type": "code",
   "execution_count": 2,
   "metadata": {},
   "outputs": [
    {
     "name": "stdout",
     "output_type": "stream",
     "text": [
      "Requirement already satisfied: imbalanced-learn in /opt/conda/lib/python3.8/site-packages (0.8.0)\n",
      "Requirement already satisfied: joblib>=0.11 in /opt/conda/lib/python3.8/site-packages (from imbalanced-learn) (0.17.0)\n",
      "Requirement already satisfied: scipy>=0.19.1 in /opt/conda/lib/python3.8/site-packages (from imbalanced-learn) (1.5.2)\n",
      "Requirement already satisfied: scikit-learn>=0.24 in /opt/conda/lib/python3.8/site-packages (from imbalanced-learn) (0.24.2)\n",
      "Requirement already satisfied: numpy>=1.13.3 in /opt/conda/lib/python3.8/site-packages (from imbalanced-learn) (1.19.2)\n",
      "Requirement already satisfied: threadpoolctl>=2.0.0 in /opt/conda/lib/python3.8/site-packages (from scikit-learn>=0.24->imbalanced-learn) (2.1.0)\n"
     ]
    }
   ],
   "source": [
    "!pip install imbalanced-learn"
   ]
  },
  {
   "cell_type": "code",
   "execution_count": 3,
   "metadata": {},
   "outputs": [],
   "source": [
    "import pandas as pd\n",
    "import numpy as np\n",
    "\n",
    "from sklearn.model_selection import train_test_split\n",
    "from sklearn.preprocessing import StandardScaler\n",
    "from sklearn.preprocessing import OneHotEncoder\n",
    "from sklearn.compose import ColumnTransformer\n",
    "from sklearn.linear_model import LogisticRegression\n",
    "from sklearn.metrics import f1_score, confusion_matrix, classification_report, accuracy_score, roc_curve, precision_recall_curve\n",
    "from sklearn.pipeline import Pipeline\n",
    "from sklearn.model_selection import GridSearchCV, cross_val_score, cross_validate\n",
    "from sklearn.ensemble import RandomForestClassifier\n",
    "from sklearn.tree import DecisionTreeClassifier\n",
    "from sklearn.feature_selection import f_regression, f_classif\n",
    "\n",
    "from imblearn.under_sampling import RandomUnderSampler\n",
    "\n",
    "import seaborn as sns\n",
    "\n",
    "import matplotlib.pyplot as plt\n",
    "import plotly.express as px\n",
    "import plotly.graph_objects as go\n",
    "import plotly.io as pio\n",
    "# setting Jedha color palette as default\n",
    "pio.templates[\"jedha\"] = go.layout.Template(\n",
    "    layout_colorway=[\"#4B9AC7\", \"#4BE8E0\", \"#9DD4F3\", \"#97FBF6\", \"#2A7FAF\", \"#23B1AB\", \"#0E3449\", \"#015955\"]\n",
    ")\n",
    "pio.templates.default = \"jedha\"\n",
    "pio.renderers.default = \"iframe\" # to be replaced by \"iframe\" if working on JULIE\n",
    "from IPython.display import display\n",
    "\n",
    "import warnings\n",
    "warnings.filterwarnings(\"ignore\", category=FutureWarning)"
   ]
  },
  {
   "cell_type": "markdown",
   "metadata": {},
   "source": [
    "### 2.1. Retrieve data, remove obvious outliers and compute basic statistics about the dataset"
   ]
  },
  {
   "cell_type": "markdown",
   "metadata": {},
   "source": [
    "#### Note that the target variable is 'converted' : has the user subscribed to the newsletter or not ?"
   ]
  },
  {
   "cell_type": "code",
   "execution_count": 4,
   "metadata": {},
   "outputs": [
    {
     "data": {
      "text/html": [
       "<div>\n",
       "<style scoped>\n",
       "    .dataframe tbody tr th:only-of-type {\n",
       "        vertical-align: middle;\n",
       "    }\n",
       "\n",
       "    .dataframe tbody tr th {\n",
       "        vertical-align: top;\n",
       "    }\n",
       "\n",
       "    .dataframe thead th {\n",
       "        text-align: right;\n",
       "    }\n",
       "</style>\n",
       "<table border=\"1\" class=\"dataframe\">\n",
       "  <thead>\n",
       "    <tr style=\"text-align: right;\">\n",
       "      <th></th>\n",
       "      <th>country</th>\n",
       "      <th>age</th>\n",
       "      <th>new_user</th>\n",
       "      <th>source</th>\n",
       "      <th>total_pages_visited</th>\n",
       "      <th>converted</th>\n",
       "    </tr>\n",
       "  </thead>\n",
       "  <tbody>\n",
       "    <tr>\n",
       "      <th>0</th>\n",
       "      <td>China</td>\n",
       "      <td>22</td>\n",
       "      <td>1</td>\n",
       "      <td>Direct</td>\n",
       "      <td>2</td>\n",
       "      <td>0</td>\n",
       "    </tr>\n",
       "    <tr>\n",
       "      <th>1</th>\n",
       "      <td>UK</td>\n",
       "      <td>21</td>\n",
       "      <td>1</td>\n",
       "      <td>Ads</td>\n",
       "      <td>3</td>\n",
       "      <td>0</td>\n",
       "    </tr>\n",
       "    <tr>\n",
       "      <th>2</th>\n",
       "      <td>Germany</td>\n",
       "      <td>20</td>\n",
       "      <td>0</td>\n",
       "      <td>Seo</td>\n",
       "      <td>14</td>\n",
       "      <td>1</td>\n",
       "    </tr>\n",
       "    <tr>\n",
       "      <th>3</th>\n",
       "      <td>US</td>\n",
       "      <td>23</td>\n",
       "      <td>1</td>\n",
       "      <td>Seo</td>\n",
       "      <td>3</td>\n",
       "      <td>0</td>\n",
       "    </tr>\n",
       "    <tr>\n",
       "      <th>4</th>\n",
       "      <td>US</td>\n",
       "      <td>28</td>\n",
       "      <td>1</td>\n",
       "      <td>Direct</td>\n",
       "      <td>3</td>\n",
       "      <td>0</td>\n",
       "    </tr>\n",
       "  </tbody>\n",
       "</table>\n",
       "</div>"
      ],
      "text/plain": [
       "   country  age  new_user  source  total_pages_visited  converted\n",
       "0    China   22         1  Direct                    2          0\n",
       "1       UK   21         1     Ads                    3          0\n",
       "2  Germany   20         0     Seo                   14          1\n",
       "3       US   23         1     Seo                    3          0\n",
       "4       US   28         1  Direct                    3          0"
      ]
     },
     "execution_count": 4,
     "metadata": {},
     "output_type": "execute_result"
    }
   ],
   "source": [
    "data = pd.read_csv('conversion_data_train.csv')\n",
    "data.head()"
   ]
  },
  {
   "cell_type": "code",
   "execution_count": 5,
   "metadata": {},
   "outputs": [],
   "source": [
    "# We simply sort the columns to start with categorical variables (country, new_user, source) and end with quantitative variables (age, total_pages_visited)\n",
    "data = data[['country','new_user','source','age','total_pages_visited','converted']]"
   ]
  },
  {
   "cell_type": "code",
   "execution_count": 6,
   "metadata": {},
   "outputs": [
    {
     "name": "stdout",
     "output_type": "stream",
     "text": [
      "<class 'pandas.core.frame.DataFrame'>\n",
      "RangeIndex: 284580 entries, 0 to 284579\n",
      "Data columns (total 6 columns):\n",
      " #   Column               Non-Null Count   Dtype \n",
      "---  ------               --------------   ----- \n",
      " 0   country              284580 non-null  object\n",
      " 1   new_user             284580 non-null  int64 \n",
      " 2   source               284580 non-null  object\n",
      " 3   age                  284580 non-null  int64 \n",
      " 4   total_pages_visited  284580 non-null  int64 \n",
      " 5   converted            284580 non-null  int64 \n",
      "dtypes: int64(4), object(2)\n",
      "memory usage: 13.0+ MB\n"
     ]
    }
   ],
   "source": [
    "# 284,580 observations in total\n",
    "data.info()"
   ]
  },
  {
   "cell_type": "code",
   "execution_count": 7,
   "metadata": {},
   "outputs": [
    {
     "data": {
      "text/html": [
       "<div>\n",
       "<style scoped>\n",
       "    .dataframe tbody tr th:only-of-type {\n",
       "        vertical-align: middle;\n",
       "    }\n",
       "\n",
       "    .dataframe tbody tr th {\n",
       "        vertical-align: top;\n",
       "    }\n",
       "\n",
       "    .dataframe thead th {\n",
       "        text-align: right;\n",
       "    }\n",
       "</style>\n",
       "<table border=\"1\" class=\"dataframe\">\n",
       "  <thead>\n",
       "    <tr style=\"text-align: right;\">\n",
       "      <th></th>\n",
       "      <th>country</th>\n",
       "      <th>new_user</th>\n",
       "      <th>source</th>\n",
       "      <th>age</th>\n",
       "      <th>total_pages_visited</th>\n",
       "      <th>converted</th>\n",
       "    </tr>\n",
       "  </thead>\n",
       "  <tbody>\n",
       "    <tr>\n",
       "      <th>count</th>\n",
       "      <td>284580</td>\n",
       "      <td>284580.000000</td>\n",
       "      <td>284580</td>\n",
       "      <td>284580.000000</td>\n",
       "      <td>284580.000000</td>\n",
       "      <td>284580.000000</td>\n",
       "    </tr>\n",
       "    <tr>\n",
       "      <th>unique</th>\n",
       "      <td>4</td>\n",
       "      <td>NaN</td>\n",
       "      <td>3</td>\n",
       "      <td>NaN</td>\n",
       "      <td>NaN</td>\n",
       "      <td>NaN</td>\n",
       "    </tr>\n",
       "    <tr>\n",
       "      <th>top</th>\n",
       "      <td>US</td>\n",
       "      <td>NaN</td>\n",
       "      <td>Seo</td>\n",
       "      <td>NaN</td>\n",
       "      <td>NaN</td>\n",
       "      <td>NaN</td>\n",
       "    </tr>\n",
       "    <tr>\n",
       "      <th>freq</th>\n",
       "      <td>160124</td>\n",
       "      <td>NaN</td>\n",
       "      <td>139477</td>\n",
       "      <td>NaN</td>\n",
       "      <td>NaN</td>\n",
       "      <td>NaN</td>\n",
       "    </tr>\n",
       "    <tr>\n",
       "      <th>mean</th>\n",
       "      <td>NaN</td>\n",
       "      <td>0.685452</td>\n",
       "      <td>NaN</td>\n",
       "      <td>30.564203</td>\n",
       "      <td>4.873252</td>\n",
       "      <td>0.032258</td>\n",
       "    </tr>\n",
       "    <tr>\n",
       "      <th>std</th>\n",
       "      <td>NaN</td>\n",
       "      <td>0.464336</td>\n",
       "      <td>NaN</td>\n",
       "      <td>8.266789</td>\n",
       "      <td>3.341995</td>\n",
       "      <td>0.176685</td>\n",
       "    </tr>\n",
       "    <tr>\n",
       "      <th>min</th>\n",
       "      <td>NaN</td>\n",
       "      <td>0.000000</td>\n",
       "      <td>NaN</td>\n",
       "      <td>17.000000</td>\n",
       "      <td>1.000000</td>\n",
       "      <td>0.000000</td>\n",
       "    </tr>\n",
       "    <tr>\n",
       "      <th>25%</th>\n",
       "      <td>NaN</td>\n",
       "      <td>0.000000</td>\n",
       "      <td>NaN</td>\n",
       "      <td>24.000000</td>\n",
       "      <td>2.000000</td>\n",
       "      <td>0.000000</td>\n",
       "    </tr>\n",
       "    <tr>\n",
       "      <th>50%</th>\n",
       "      <td>NaN</td>\n",
       "      <td>1.000000</td>\n",
       "      <td>NaN</td>\n",
       "      <td>30.000000</td>\n",
       "      <td>4.000000</td>\n",
       "      <td>0.000000</td>\n",
       "    </tr>\n",
       "    <tr>\n",
       "      <th>75%</th>\n",
       "      <td>NaN</td>\n",
       "      <td>1.000000</td>\n",
       "      <td>NaN</td>\n",
       "      <td>36.000000</td>\n",
       "      <td>7.000000</td>\n",
       "      <td>0.000000</td>\n",
       "    </tr>\n",
       "    <tr>\n",
       "      <th>max</th>\n",
       "      <td>NaN</td>\n",
       "      <td>1.000000</td>\n",
       "      <td>NaN</td>\n",
       "      <td>123.000000</td>\n",
       "      <td>29.000000</td>\n",
       "      <td>1.000000</td>\n",
       "    </tr>\n",
       "  </tbody>\n",
       "</table>\n",
       "</div>"
      ],
      "text/plain": [
       "       country       new_user  source            age  total_pages_visited  \\\n",
       "count   284580  284580.000000  284580  284580.000000        284580.000000   \n",
       "unique       4            NaN       3            NaN                  NaN   \n",
       "top         US            NaN     Seo            NaN                  NaN   \n",
       "freq    160124            NaN  139477            NaN                  NaN   \n",
       "mean       NaN       0.685452     NaN      30.564203             4.873252   \n",
       "std        NaN       0.464336     NaN       8.266789             3.341995   \n",
       "min        NaN       0.000000     NaN      17.000000             1.000000   \n",
       "25%        NaN       0.000000     NaN      24.000000             2.000000   \n",
       "50%        NaN       1.000000     NaN      30.000000             4.000000   \n",
       "75%        NaN       1.000000     NaN      36.000000             7.000000   \n",
       "max        NaN       1.000000     NaN     123.000000            29.000000   \n",
       "\n",
       "            converted  \n",
       "count   284580.000000  \n",
       "unique            NaN  \n",
       "top               NaN  \n",
       "freq              NaN  \n",
       "mean         0.032258  \n",
       "std          0.176685  \n",
       "min          0.000000  \n",
       "25%          0.000000  \n",
       "50%          0.000000  \n",
       "75%          0.000000  \n",
       "max          1.000000  "
      ]
     },
     "execution_count": 7,
     "metadata": {},
     "output_type": "execute_result"
    }
   ],
   "source": [
    "data.describe(include='all')"
   ]
  },
  {
   "cell_type": "code",
   "execution_count": 8,
   "metadata": {},
   "outputs": [
    {
     "data": {
      "text/html": [
       "<div>\n",
       "<style scoped>\n",
       "    .dataframe tbody tr th:only-of-type {\n",
       "        vertical-align: middle;\n",
       "    }\n",
       "\n",
       "    .dataframe tbody tr th {\n",
       "        vertical-align: top;\n",
       "    }\n",
       "\n",
       "    .dataframe thead th {\n",
       "        text-align: right;\n",
       "    }\n",
       "</style>\n",
       "<table border=\"1\" class=\"dataframe\">\n",
       "  <thead>\n",
       "    <tr style=\"text-align: right;\">\n",
       "      <th></th>\n",
       "      <th>country</th>\n",
       "      <th>new_user</th>\n",
       "      <th>source</th>\n",
       "      <th>age</th>\n",
       "      <th>total_pages_visited</th>\n",
       "      <th>converted</th>\n",
       "    </tr>\n",
       "  </thead>\n",
       "  <tbody>\n",
       "    <tr>\n",
       "      <th>11331</th>\n",
       "      <td>UK</td>\n",
       "      <td>0</td>\n",
       "      <td>Ads</td>\n",
       "      <td>111</td>\n",
       "      <td>10</td>\n",
       "      <td>1</td>\n",
       "    </tr>\n",
       "    <tr>\n",
       "      <th>233196</th>\n",
       "      <td>Germany</td>\n",
       "      <td>0</td>\n",
       "      <td>Seo</td>\n",
       "      <td>123</td>\n",
       "      <td>15</td>\n",
       "      <td>1</td>\n",
       "    </tr>\n",
       "  </tbody>\n",
       "</table>\n",
       "</div>"
      ],
      "text/plain": [
       "        country  new_user source  age  total_pages_visited  converted\n",
       "11331        UK         0    Ads  111                   10          1\n",
       "233196  Germany         0    Seo  123                   15          1"
      ]
     },
     "execution_count": 8,
     "metadata": {},
     "output_type": "execute_result"
    }
   ],
   "source": [
    "# We notice that the age of 2 users is not realistic and thus remove the corresponding observations.\n",
    "data.loc[data['age']>90,:]"
   ]
  },
  {
   "cell_type": "code",
   "execution_count": 9,
   "metadata": {},
   "outputs": [
    {
     "data": {
      "text/plain": [
       "(284578, 6)"
      ]
     },
     "execution_count": 9,
     "metadata": {},
     "output_type": "execute_result"
    }
   ],
   "source": [
    "data = data.loc[data['age']<90,:]\n",
    "data.shape"
   ]
  },
  {
   "cell_type": "markdown",
   "metadata": {},
   "source": [
    "### 2.2 Basic statistics in order to have a better understanding of the dataset"
   ]
  },
  {
   "cell_type": "code",
   "execution_count": 51,
   "metadata": {},
   "outputs": [
    {
     "name": "stdout",
     "output_type": "stream",
     "text": [
      "the proportion of 'converted' users in the dataset is : 3.2%.\n"
     ]
    }
   ],
   "source": [
    "# let's see the proportion of 'converted' users ==> the dataset is clearly unbalanced (97% 0 and 3% 1).\n",
    "print('the proportion of \\'converted\\' users in the dataset is : {:.1%}.'.format(data['converted'].sum()/data['converted'].shape[0]))"
   ]
  },
  {
   "cell_type": "code",
   "execution_count": 52,
   "metadata": {},
   "outputs": [
    {
     "name": "stdout",
     "output_type": "stream",
     "text": [
      "\n",
      "****  China  ****\n",
      "total users = 69,122\n",
      "relative importance of the country in the dataset = 24.3%\n",
      "total converted users = 89\n",
      "total non converted users = 69,033\n",
      "proportion of converted users = 0.1%\n",
      "\n",
      "****  UK  ****\n",
      "total users = 43,640\n",
      "relative importance of the country in the dataset = 15.3%\n",
      "total converted users = 2,290\n",
      "total non converted users = 41,350\n",
      "proportion of converted users = 5.2%\n",
      "\n",
      "****  Germany  ****\n",
      "total users = 11,692\n",
      "relative importance of the country in the dataset = 4.1%\n",
      "total converted users = 729\n",
      "total non converted users = 10,963\n",
      "proportion of converted users = 6.2%\n",
      "\n",
      "****  US  ****\n",
      "total users = 160,124\n",
      "relative importance of the country in the dataset = 56.3%\n",
      "total converted users = 6,070\n",
      "total non converted users = 154,054\n",
      "proportion of converted users = 3.8%\n"
     ]
    }
   ],
   "source": [
    "# Let's see the distribution of converted users per country : users from China clearly appear to be reluctant to subscribe to the newsletter (0.1 of converted users !)\n",
    "for country in data['country'].unique():\n",
    "    data_country = data[data['country'] == country]\n",
    "    print('\\n**** ', country, ' ****')\n",
    "    print('total users = {:,}'.format(data_country.shape[0]))\n",
    "    print('relative importance of the country in the dataset = {:.1%}'.format(data_country.shape[0]/data.shape[0]))\n",
    "    print('total converted users = {:,}'.format(data_country[data_country['converted']==1].shape[0]))\n",
    "    print('total non converted users = {:,}'.format(data_country[data_country['converted']==0].shape[0]))\n",
    "    print('proportion of converted users = {:.1%}'.format(data_country[data_country['converted']==1].shape[0]/data_country.shape[0],1))"
   ]
  },
  {
   "cell_type": "markdown",
   "metadata": {},
   "source": [
    "### 2.3 Data Visualizations on a sample (10,000 observations)"
   ]
  },
  {
   "cell_type": "code",
   "execution_count": 53,
   "metadata": {},
   "outputs": [],
   "source": [
    "data_sample = data.sample(10000)"
   ]
  },
  {
   "cell_type": "code",
   "execution_count": 57,
   "metadata": {},
   "outputs": [
    {
     "data": {
      "text/plain": [
       "<matplotlib.legend.Legend at 0x7f2adc488df0>"
      ]
     },
     "execution_count": 57,
     "metadata": {},
     "output_type": "execute_result"
    },
    {
     "data": {
      "image/png": "[encoded data removed]",
      "text/plain": [
       "<Figure size 864x864 with 3 Axes>"
      ]
     },
     "metadata": {
      "needs_background": "light"
     },
     "output_type": "display_data"
    }
   ],
   "source": [
    "fig, axs = plt.subplots(3,1, figsize=(12,12))\n",
    "sns.distplot(data_sample[data_sample['converted']==1]['age'], bins=20, kde=True, label='converted', ax=axs[0])\n",
    "sns.distplot(data_sample[data_sample['converted']==0]['age'], bins=20, kde=True, label='non_converted', ax=axs[0])\n",
    "axs[0].legend()\n",
    "\n",
    "sns.distplot(data_sample[data_sample['converted']==1]['total_pages_visited'], bins=20, kde=True, label='converted', ax=axs[1])\n",
    "sns.distplot(data_sample[data_sample['converted']==0]['total_pages_visited'], bins=20, kde=True, label='non_converted', ax=axs[1])\n",
    "axs[1].legend()\n",
    "\n",
    "sns.distplot(data_sample[data_sample['converted']==1]['new_user'], bins=20, kde=True, label='converted', ax=axs[2])\n",
    "sns.distplot(data_sample[data_sample['converted']==0]['new_user'], bins=20, kde=True, label='non_converted', ax=axs[2])\n",
    "axs[2].legend()"
   ]
  },
  {
   "cell_type": "markdown",
   "metadata": {},
   "source": [
    "#### From the 3 graphs above, we can draw the main following observations :\n",
    "- converted users appear to be younger on average than non-converted users (there is a important peak around 20 years-old) but the distributions overlaps a lot\n",
    "- the variable 'total_pages_visited' can discriminate users that are 'converted' or not. As we could have expected, users who have visited the hight number of pages are more likely to subscribe (or to have already subscribed) to the newsletter.\n",
    "- there are more 'converted' users among already registered users than among newly registered users : users do not automatically subscribe to the newsletter as they sign up to the website."
   ]
  },
  {
   "cell_type": "code",
   "execution_count": 59,
   "metadata": {},
   "outputs": [
    {
     "data": {
      "image/png": "[encoded data removed]",
      "text/plain": [
       "<Figure size 360x360 with 1 Axes>"
      ]
     },
     "metadata": {
      "needs_background": "light"
     },
     "output_type": "display_data"
    }
   ],
   "source": [
    "# Let's now figure out if the 'source' matters significantly\n",
    "sns.catplot(x='source', y='converted', data=data_sample, kind=\"bar\");\n",
    "# ==> It appears from the graph below that the three sources are more or less equally represented among converted users."
   ]
  },
  {
   "cell_type": "code",
   "execution_count": 63,
   "metadata": {},
   "outputs": [
    {
     "data": {
      "image/png": "[encoded data removed]",
      "text/plain": [
       "<Figure size 360x360 with 1 Axes>"
      ]
     },
     "metadata": {
      "needs_background": "light"
     },
     "output_type": "display_data"
    }
   ],
   "source": [
    "# Let's now figure out how the countries weigh for converted users.\n",
    "sns.catplot(x='country', y='converted', data=data_sample, kind=\"bar\");\n",
    "# ==> As we saw above when computing basics statistics about the dataset, users from China are clearly less represented among converted users."
   ]
  },
  {
   "cell_type": "code",
   "execution_count": 64,
   "metadata": {},
   "outputs": [
    {
     "data": {
      "image/png": "[encoded data removed]",
      "text/plain": [
       "<Figure size 432x288 with 2 Axes>"
      ]
     },
     "metadata": {
      "needs_background": "light"
     },
     "output_type": "display_data"
    }
   ],
   "source": [
    "# Finally, let's take a look at the correlations between variables :\n",
    "sns.heatmap(abs(data.corr()));\n",
    "#==> We note that 'total_pages_visited' seems to be the only variable strongly correlated to the target variable 'converted'."
   ]
  },
  {
   "cell_type": "markdown",
   "metadata": {},
   "source": [
    "#### We can confirme this final observation by plotting the target variable ('converted') regarding only the 'total_visited_pages' variable and trying to automatically fit a logistic regression on the graph."
   ]
  },
  {
   "cell_type": "code",
   "execution_count": 65,
   "metadata": {},
   "outputs": [
    {
     "data": {
      "image/png": "[encoded data removed]",
      "text/plain": [
       "<Figure size 360x360 with 1 Axes>"
      ]
     },
     "metadata": {
      "needs_background": "light"
     },
     "output_type": "display_data"
    }
   ],
   "source": [
    "sns.lmplot(x='total_pages_visited', y='converted', data=data_sample, logistic=True);"
   ]
  },
  {
   "cell_type": "markdown",
   "metadata": {},
   "source": [
    "## 3. Logistic Regression"
   ]
  },
  {
   "cell_type": "markdown",
   "metadata": {},
   "source": [
    "### 3.1 Feature selection"
   ]
  },
  {
   "cell_type": "markdown",
   "metadata": {},
   "source": [
    "#### First, let's perform a feature selection. We analyse the importance of each variable in the dataset using scikit-learn f_classif function (https://scikit-learn.org/stable/modules/generated/sklearn.feature_selection.f_classif.html)"
   ]
  },
  {
   "cell_type": "code",
   "execution_count": 70,
   "metadata": {},
   "outputs": [
    {
     "data": {
      "text/plain": [
       "Index(['country', 'new_user', 'source', 'age', 'total_pages_visited',\n",
       "       'converted'],\n",
       "      dtype='object')"
      ]
     },
     "execution_count": 70,
     "metadata": {},
     "output_type": "execute_result"
    }
   ],
   "source": [
    "data.columns"
   ]
  },
  {
   "cell_type": "code",
   "execution_count": 72,
   "metadata": {},
   "outputs": [
    {
     "data": {
      "text/html": [
       "<div>\n",
       "<style scoped>\n",
       "    .dataframe tbody tr th:only-of-type {\n",
       "        vertical-align: middle;\n",
       "    }\n",
       "\n",
       "    .dataframe tbody tr th {\n",
       "        vertical-align: top;\n",
       "    }\n",
       "\n",
       "    .dataframe thead th {\n",
       "        text-align: right;\n",
       "    }\n",
       "</style>\n",
       "<table border=\"1\" class=\"dataframe\">\n",
       "  <thead>\n",
       "    <tr style=\"text-align: right;\">\n",
       "      <th></th>\n",
       "      <th>F score</th>\n",
       "      <th>p-value</th>\n",
       "    </tr>\n",
       "  </thead>\n",
       "  <tbody>\n",
       "    <tr>\n",
       "      <th>x0_UK</th>\n",
       "      <td>110680.382032</td>\n",
       "      <td>0.000000e+00</td>\n",
       "    </tr>\n",
       "    <tr>\n",
       "      <th>x2_Seo</th>\n",
       "      <td>6737.133487</td>\n",
       "      <td>0.000000e+00</td>\n",
       "    </tr>\n",
       "    <tr>\n",
       "      <th>x0_Germany</th>\n",
       "      <td>2257.286255</td>\n",
       "      <td>0.000000e+00</td>\n",
       "    </tr>\n",
       "    <tr>\n",
       "      <th>x1_1</th>\n",
       "      <td>677.039999</td>\n",
       "      <td>4.403019e-149</td>\n",
       "    </tr>\n",
       "    <tr>\n",
       "      <th>x2_Direct</th>\n",
       "      <td>375.889602</td>\n",
       "      <td>1.106670e-83</td>\n",
       "    </tr>\n",
       "    <tr>\n",
       "      <th>x0_US</th>\n",
       "      <td>354.358494</td>\n",
       "      <td>5.323175e-79</td>\n",
       "    </tr>\n",
       "    <tr>\n",
       "      <th>age</th>\n",
       "      <td>53.242044</td>\n",
       "      <td>2.956420e-13</td>\n",
       "    </tr>\n",
       "    <tr>\n",
       "      <th>total_pages_visited</th>\n",
       "      <td>3.310654</td>\n",
       "      <td>6.883313e-02</td>\n",
       "    </tr>\n",
       "  </tbody>\n",
       "</table>\n",
       "</div>"
      ],
      "text/plain": [
       "                           F score        p-value\n",
       "x0_UK                110680.382032   0.000000e+00\n",
       "x2_Seo                 6737.133487   0.000000e+00\n",
       "x0_Germany             2257.286255   0.000000e+00\n",
       "x1_1                    677.039999  4.403019e-149\n",
       "x2_Direct               375.889602   1.106670e-83\n",
       "x0_US                   354.358494   5.323175e-79\n",
       "age                      53.242044   2.956420e-13\n",
       "total_pages_visited       3.310654   6.883313e-02"
      ]
     },
     "metadata": {},
     "output_type": "display_data"
    }
   ],
   "source": [
    "# Preprocessing, note that we do not need an imputer since no information is missing.\n",
    "X = data.drop('converted', axis=1)\n",
    "y = data['converted']\n",
    "\n",
    "numeric_transformer = Pipeline(steps=[\n",
    "    ('scaler', StandardScaler())\n",
    "])\n",
    "\n",
    "categorical_transformer = Pipeline(\n",
    "    steps=[\n",
    "    ('encoder', OneHotEncoder(drop='first')) # first column will be dropped to avoid creating colinearity between features\n",
    "    ])\n",
    "\n",
    "# we use ColumnTranformer to build a preprocessor object that wraps all the treatments to be done on the variables\n",
    "preprocessor = ColumnTransformer(\n",
    "    transformers=[\n",
    "        ('num', numeric_transformer, [3,4]),\n",
    "        ('cat', categorical_transformer, [0,1,2])     \n",
    "    ])\n",
    "\n",
    "X = preprocessor.fit_transform(X)\n",
    "\n",
    "# Retrieve name of the features\n",
    "features = list(preprocessor.transformers_[1][1]['encoder'].get_feature_names())\n",
    "features.extend(['age','total_pages_visited'])\n",
    "\n",
    "feature_analysis = pd.DataFrame(columns=['F score','p-value'],\n",
    "                                data=np.array(f_classif(X, y)).T,\n",
    "                                index=features)\n",
    "display(feature_analysis.sort_values(by='F score', ascending=False))"
   ]
  },
  {
   "cell_type": "markdown",
   "metadata": {},
   "source": [
    "#### The correspondance between variables and encoded variables is as follows:\n",
    "- x0_ : country\n",
    "- x1_ : new_user (boolean)\n",
    "- x2_ : source"
   ]
  },
  {
   "cell_type": "markdown",
   "metadata": {},
   "source": [
    "#### Surprisingly considering the observations raised during the EDA (see part 2), the variable 'total_pages_visited' has the lowest F-score and highest p-value. Nevertheless, we decide to keep it as the p-value is not extrememy high (6.88%)."
   ]
  },
  {
   "cell_type": "markdown",
   "metadata": {},
   "source": [
    "#### Now, let's find out how a logistic regression models perform on our dataset."
   ]
  },
  {
   "cell_type": "markdown",
   "metadata": {},
   "source": [
    "### 3.2 Preprocessing"
   ]
  },
  {
   "cell_type": "code",
   "execution_count": 208,
   "metadata": {},
   "outputs": [],
   "source": [
    "# Preprocessing\n",
    "# The 'stratify' argument is extremely important here because our dataset is very unbalanced (97/3)\n",
    "X_train, X_test, y_train, y_test = train_test_split(data.drop('converted', axis=1), data['converted'],\n",
    "                                                    test_size=0.2, random_state=0, stratify=data['converted'])"
   ]
  },
  {
   "cell_type": "code",
   "execution_count": 209,
   "metadata": {},
   "outputs": [],
   "source": [
    "X_train = X_train.values\n",
    "X_test = X_test.values\n",
    "y_train = y_train.values\n",
    "y_test = y_test.values\n",
    "\n",
    "numeric_transformer = Pipeline(steps=[\n",
    "    ('scaler', StandardScaler())\n",
    "])\n",
    "\n",
    "categorical_transformer = Pipeline(\n",
    "    steps=[\n",
    "    ('encoder', OneHotEncoder(drop='first')) # first column will be dropped to avoid creating correlations between features\n",
    "    ])\n",
    "\n",
    "# Use ColumnTranformer to make a preprocessor object that describes all the treatments to be done\n",
    "preprocessor = ColumnTransformer(\n",
    "    transformers=[\n",
    "        ('num', numeric_transformer, [3,4]),\n",
    "        ('cat', categorical_transformer, [0,1,2])     \n",
    "    ])\n",
    "\n",
    "# Preprocessing on train set\n",
    "X_train = preprocessor.fit_transform(X_train)\n",
    "\n",
    "# Preprocessing on test set\n",
    "X_test = preprocessor.transform(X_test)"
   ]
  },
  {
   "cell_type": "markdown",
   "metadata": {},
   "source": [
    "### 3.3 Fitting of a logistic regression"
   ]
  },
  {
   "cell_type": "code",
   "execution_count": 143,
   "metadata": {},
   "outputs": [
    {
     "name": "stdout",
     "output_type": "stream",
     "text": [
      "f1-score on train set : 0.7637\n",
      "f1-score on test set : 0.7646\n"
     ]
    }
   ],
   "source": [
    "classifier = LogisticRegression()\n",
    "classifier.fit(X_train, y_train)\n",
    "\n",
    "y_train_pred = classifier.predict(X_train)\n",
    "y_test_pred = classifier.predict(X_test)\n",
    "\n",
    "print(\"f1-score on train set : {:.4}\".format(f1_score(y_train, y_train_pred)))\n",
    "print(\"f1-score on test set : {:.4}\".format(f1_score(y_test, y_test_pred)))"
   ]
  },
  {
   "cell_type": "code",
   "execution_count": 152,
   "metadata": {},
   "outputs": [
    {
     "name": "stdout",
     "output_type": "stream",
     "text": [
      "*** Train ***\n",
      "Cross-validated mean accuracy score : 0.9862\n",
      "Std of accuracy: 9.426e-05\n",
      "Cross-validated mean f-1 score : 0.7636\n",
      "Std of f1-scores: 0.001916\n",
      "\n",
      "*** Test ***\n",
      "Cross-validated mean accuracy score : 0.9862\n",
      "Std of accuracy: 0.0007593\n",
      "Cross-validated mean f-1 score : 0.7634\n",
      "Std of f1-scores: 0.0135\n"
     ]
    }
   ],
   "source": [
    "# Let's try to confirm this result with a cross validation\n",
    "classifier_cv = LogisticRegression()\n",
    "all_scores = cross_validate(classifier_cv, X_train, y_train, cv=10, scoring=('accuracy', 'f1'), return_train_score=True)\n",
    "print('*** Train ***')\n",
    "print(\"Cross-validated mean accuracy score : {:.4}\\nStd of accuracy: {:.4}\".format(all_scores['train_accuracy'].mean(), all_scores['train_accuracy'].std()))\n",
    "print(\"Cross-validated mean f-1 score : {:.4}\\nStd of f1-scores: {:.4}\".format(all_scores['train_f1'].mean(), all_scores['train_f1'].std()))\n",
    "print('\\n*** Test ***')\n",
    "print(\"Cross-validated mean accuracy score : {:.4}\\nStd of accuracy: {:.4}\".format(all_scores['test_accuracy'].mean(), all_scores['test_accuracy'].std()))\n",
    "print(\"Cross-validated mean f-1 score : {:.4}\\nStd of f1-scores: {:.4}\".format(all_scores['test_f1'].mean(), all_scores['test_f1'].std()))"
   ]
  },
  {
   "cell_type": "markdown",
   "metadata": {},
   "source": [
    "#### These results show that there is no obvious overfitting of the model : the performance on train and test dataset are very close (the average f1-score for a regular logistic regression is 0.76). Let's now perform an error analysis to determine how this score could be improved even though the fact that train and test scores are so close indicates that it might be hard to improve our objective score."
   ]
  },
  {
   "cell_type": "markdown",
   "metadata": {},
   "source": [
    "### 3.3 Analysis of the results"
   ]
  },
  {
   "cell_type": "code",
   "execution_count": 153,
   "metadata": {},
   "outputs": [],
   "source": [
    "# Computation of the confusion matrices and classification reports for train and test datasets.\n",
    "cm_train = confusion_matrix(y_train, y_train_pred)\n",
    "cm_test = confusion_matrix(y_test, y_test_pred)"
   ]
  },
  {
   "cell_type": "code",
   "execution_count": 154,
   "metadata": {},
   "outputs": [
    {
     "data": {
      "image/png": "[encoded data removed]",
      "text/plain": [
       "<Figure size 432x288 with 2 Axes>"
      ]
     },
     "metadata": {
      "needs_background": "light"
     },
     "output_type": "display_data"
    }
   ],
   "source": [
    "sns.heatmap(cm_train, annot=True);"
   ]
  },
  {
   "cell_type": "code",
   "execution_count": 102,
   "metadata": {},
   "outputs": [
    {
     "name": "stdout",
     "output_type": "stream",
     "text": [
      "              precision    recall  f1-score   support\n",
      "\n",
      "           0       0.99      1.00      0.99    220320\n",
      "           1       0.86      0.69      0.76      7342\n",
      "\n",
      "    accuracy                           0.99    227662\n",
      "   macro avg       0.92      0.84      0.88    227662\n",
      "weighted avg       0.99      0.99      0.99    227662\n",
      "\n"
     ]
    }
   ],
   "source": [
    "print(classification_report(y_train, y_train_pred))"
   ]
  },
  {
   "cell_type": "code",
   "execution_count": 103,
   "metadata": {},
   "outputs": [
    {
     "data": {
      "image/png": "[encoded data removed]",
      "text/plain": [
       "<Figure size 432x288 with 2 Axes>"
      ]
     },
     "metadata": {
      "needs_background": "light"
     },
     "output_type": "display_data"
    }
   ],
   "source": [
    "sns.heatmap(cm_test, annot=True);"
   ]
  },
  {
   "cell_type": "code",
   "execution_count": 156,
   "metadata": {},
   "outputs": [
    {
     "name": "stdout",
     "output_type": "stream",
     "text": [
      "              precision    recall  f1-score   support\n",
      "\n",
      "           0       0.99      1.00      0.99     55080\n",
      "           1       0.85      0.69      0.76      1836\n",
      "\n",
      "    accuracy                           0.99     56916\n",
      "   macro avg       0.92      0.85      0.88     56916\n",
      "weighted avg       0.99      0.99      0.99     56916\n",
      "\n"
     ]
    }
   ],
   "source": [
    "print(classification_report(y_test, y_test_pred))"
   ]
  },
  {
   "cell_type": "code",
   "execution_count": 104,
   "metadata": {},
   "outputs": [
    {
     "data": {
      "text/html": [
       "<iframe\n",
       "    scrolling=\"no\"\n",
       "    width=\"100%\"\n",
       "    height=\"545px\"\n",
       "    src=\"iframe_figures/figure_92.html\"\n",
       "    frameborder=\"0\"\n",
       "    allowfullscreen\n",
       "></iframe>\n"
      ]
     },
     "metadata": {},
     "output_type": "display_data"
    }
   ],
   "source": [
    "# Visualize ROC curves\n",
    "probas_train = classifier.predict_proba(X_train)[:,1]\n",
    "fpr, tpr, thresholds = roc_curve(Y_train, probas_train)\n",
    "fig = go.Figure(\n",
    "    data = go.Scatter(\n",
    "        name = 'train',\n",
    "        x = fpr, \n",
    "        y = tpr, \n",
    "        mode = 'lines'\n",
    "    ),\n",
    "    layout = go.Layout(\n",
    "        title = go.layout.Title(text = \"ROC curve\", x = 0.5),\n",
    "        xaxis = go.layout.XAxis(title = 'False Positive Rate'),\n",
    "        yaxis = go.layout.YAxis(title = 'True Positive Rate')\n",
    "    )\n",
    ")\n",
    "\n",
    "probas_test = classifier.predict_proba(X_test)[:,1]\n",
    "fpr, tpr, thresholds = roc_curve(Y_test, probas_test)\n",
    "fig.add_trace(go.Scatter(\n",
    "    name = 'test',\n",
    "    x = fpr, \n",
    "    y = tpr, \n",
    "    mode = 'lines'\n",
    "    )\n",
    ")\n",
    "fig.show()"
   ]
  },
  {
   "cell_type": "markdown",
   "metadata": {},
   "source": [
    "#### The shapes of the ROC curves look convincing (the curves are far from the diagonal) but considering the confusion matrix on the test dataset, it seems that we have a lot of False Negatives in our predictions. Indeed, the recall is only at 0.69 indicating that the model was able to predict only 69% 'converted' users among all converted users in the test set. Improving this result could have a strong positive on our f1-score, we basically want to transform False Negatives (FN) into True Positive (TP). We will try to determine what distinguish FN to TP in order to improve our model."
   ]
  },
  {
   "cell_type": "code",
   "execution_count": 133,
   "metadata": {},
   "outputs": [],
   "source": [
    "X_train_error_analysis, X_test_error_analysis, y_train_error_analysis, y_test_error_analysis = train_test_split(data.drop('converted', axis=1), \n",
    "                                                                                                                data['converted'], test_size=0.2, \n",
    "                                                                                                                random_state=0, stratify=data['converted'])\n",
    "\n",
    "FN = X_test_error_analysis[(y_test_pred == 0) &(y_test == 1)]\n",
    "TP = X_test_error_analysis[(y_test_pred == 1) &(y_test == 1)]"
   ]
  },
  {
   "cell_type": "code",
   "execution_count": 134,
   "metadata": {},
   "outputs": [
    {
     "name": "stdout",
     "output_type": "stream",
     "text": [
      "we found 561 False negatives, it matches the confusion matrix calculated above : True.\n",
      "we found 1,275 True positives, it matches the confusion matrix calculated above : True.\n"
     ]
    }
   ],
   "source": [
    "# Sanity check : verify that the FN and TP quantities correspond to the confusion matrix calculated on the test set :\n",
    "print('we found {:,} False negatives, it matches the confusion matrix calculated above : {}.'.format(FN.shape[0], FN.shape[0]==cm_test[1,0]))\n",
    "print('we found {:,} True positives, it matches the confusion matrix calculated above : {}.'.format(TP.shape[0], TP.shape[0]==cm_test[1,1]))"
   ]
  },
  {
   "cell_type": "code",
   "execution_count": 135,
   "metadata": {},
   "outputs": [
    {
     "data": {
      "text/html": [
       "<iframe\n",
       "    scrolling=\"no\"\n",
       "    width=\"100%\"\n",
       "    height=\"545px\"\n",
       "    src=\"iframe_figures/figure_135.html\"\n",
       "    frameborder=\"0\"\n",
       "    allowfullscreen\n",
       "></iframe>\n"
      ]
     },
     "metadata": {},
     "output_type": "display_data"
    }
   ],
   "source": [
    "from plotly.subplots import make_subplots\n",
    "import plotly.graph_objects as go\n",
    "\n",
    "fig = make_subplots(rows=2, cols=1, subplot_titles=(\"Country\",\"Source\", \"Age\", \"Total_pages_visited\"))\n",
    "\n",
    "fig.add_trace(go.Bar(x=np.unique(FN['country']), \n",
    "                     y=FN.value_counts('country').values/FN.shape[0], name='FN'),\n",
    "              1, 1)\n",
    "fig.add_trace(go.Bar(x=np.unique(FN['country']), y=TP.value_counts('country').values/TP.shape[0], name='TP'),\n",
    "              1, 1)\n",
    "\n",
    "fig.add_trace(go.Bar(x=np.unique(FN['source']), y=FN.value_counts('source').values/FN.shape[0], name='FN'),\n",
    "              2, 1)\n",
    "fig.add_trace(go.Bar(x=np.unique(FN['source']), y=TP.value_counts('source').values/TP.shape[0], name='TP'),\n",
    "              2, 1)\n",
    "\n",
    "fig.update_layout(coloraxis=dict(colorscale='Bluered_r'), showlegend=True, title_text=\"Comparison of False Negatives and True Positives\")\n",
    "fig.show()"
   ]
  },
  {
   "cell_type": "markdown",
   "metadata": {},
   "source": [
    "#### Regarding the variables 'country' and 'source', the data seems actually very similar between FN and TP. It seems difficult to find a way to discriminate them in order to reduce the FN population."
   ]
  },
  {
   "cell_type": "code",
   "execution_count": 136,
   "metadata": {},
   "outputs": [
    {
     "data": {
      "text/plain": [
       "<matplotlib.legend.Legend at 0x7f2abfaa9fd0>"
      ]
     },
     "execution_count": 136,
     "metadata": {},
     "output_type": "execute_result"
    },
    {
     "data": {
      "image/png": "[encoded data removed]",
      "text/plain": [
       "<Figure size 1440x1440 with 3 Axes>"
      ]
     },
     "metadata": {
      "needs_background": "light"
     },
     "output_type": "display_data"
    }
   ],
   "source": [
    "fig, axs = plt.subplots(3,1, figsize=(20,20))\n",
    "\n",
    "sns.distplot(FN['age'], bins=20, kde=True, label='FN', ax=axs[0])\n",
    "sns.distplot(TP['age'], bins=20, kde=True, label='TP', ax=axs[0])\n",
    "axs[0].legend()\n",
    "\n",
    "sns.distplot(FN['total_pages_visited'], bins=20, kde=True, label='FN', ax=axs[1])\n",
    "sns.distplot(TP['total_pages_visited'], bins=20, kde=True, label='TP', ax=axs[1])\n",
    "sns.distplot(data_sample['total_pages_visited'], bins=20, kde=True, label='all data sample', ax=axs[1])\n",
    "sns.distplot(data_sample[data_sample['converted']==0]['total_pages_visited'], bins=20, kde=True, label='data sample non converted', ax=axs[1])\n",
    "axs[1].legend()\n",
    "\n",
    "sns.distplot(FN['new_user'], bins=20, kde=True, label='FN', ax=axs[2])\n",
    "sns.distplot(TP['new_user'], bins=20, kde=True, label='TP', ax=axs[2])\n",
    "axs[2].legend()"
   ]
  },
  {
   "cell_type": "markdown",
   "metadata": {},
   "source": [
    "#### It looks like the distribution of the variables 'age' and 'total pages visited' are quite similare between FN and a part of TP. The average number of pages visited is a bit lower for FN than for TP, so this might be a good insigth to exploit but it may difficult to increase a lot the f1-score."
   ]
  },
  {
   "cell_type": "markdown",
   "metadata": {},
   "source": [
    "### 3.4 Optimization of the parameters of the logistic regression"
   ]
  },
  {
   "cell_type": "markdown",
   "metadata": {},
   "source": [
    "#### 3.4.1 Probability threshold\n",
    "#### Let's try to see if the probability threshold associated to the decision can be modified to increase the F1-score "
   ]
  },
  {
   "cell_type": "code",
   "execution_count": 210,
   "metadata": {},
   "outputs": [
    {
     "name": "stdout",
     "output_type": "stream",
     "text": [
      "Best probability threshold = 41.0%, maximized f1-score=0.7652\n",
      "To be compared to the f1-score with default threshold (50%) = 0.7236\n"
     ]
    },
    {
     "data": {
      "image/png": "[encoded data removed]",
      "text/plain": [
       "<Figure size 432x288 with 1 Axes>"
      ]
     },
     "metadata": {
      "needs_background": "light"
     },
     "output_type": "display_data"
    }
   ],
   "source": [
    "# predict probabilities, and keep only the class = 1\n",
    "probas_test = classifier.predict_proba(X_test)[:,1]\n",
    "\n",
    "# Computation of precision and recall\n",
    "precision, recall, thresholds = precision_recall_curve(y_test, probas_test)\n",
    "\n",
    "# computation of to f1-score\n",
    "f1score = (2 * precision * recall) / (precision + recall)\n",
    "\n",
    "# locate the index of the largest f score\n",
    "idx = np.argmax(f1score)\n",
    "print('Best probability threshold = {:.1%}, maximized f1-score={:.4}'.format(thresholds[idx], f1score[idx]))\n",
    "print('To be compared to the f1-score with default threshold (50%) = {:.4}'.format(f1_score(y_test, y_test_pred)))\n",
    "\n",
    "\n",
    "plt.plot(recall, precision, label='model performance optimizing probability threshold')\n",
    "plt.scatter(recall[idx], precision[idx], marker='o', color='red', label='Best f1-score')\n",
    "plt.xlabel('Recall')\n",
    "plt.ylabel('Precision')\n",
    "plt.legend()\n",
    "plt.show()"
   ]
  },
  {
   "cell_type": "markdown",
   "metadata": {},
   "source": [
    "#### By switching the probability threshold from 50% to 41%, we only very slighly improve the performance of the logistic regression."
   ]
  },
  {
   "cell_type": "markdown",
   "metadata": {},
   "source": [
    "#### 3.4.1 Class weights\n",
    "#### Let's now try to see if the weights associated to  each class by the model can be fine-tuned to increase the F1-score "
   ]
  },
  {
   "cell_type": "code",
   "execution_count": null,
   "metadata": {},
   "outputs": [],
   "source": [
    "weights_classifier = LogisticRegression()\n",
    "weights = np.linspace(0.0,0.97,100)\n",
    "param_grid = {'class_weight': [{0:x, 1:1.0-x} for x in weights]}\n",
    "grid_weights = GridSearchCV(weights_classifier, param_grid=param_grid, cv=10, verbose=0, scoring='f1')\n",
    "grid_weights.fit(X_train, y_train)\n",
    "y_test_pred = grid_weights.predict(X_test)"
   ]
  },
  {
   "cell_type": "code",
   "execution_count": 212,
   "metadata": {},
   "outputs": [
    {
     "name": "stdout",
     "output_type": "stream",
     "text": [
      "Best weights: {0: 0.4017171717171717, 1: 0.5982828282828283}\n",
      "f1-score on test set :  0.7646723646723647\n",
      "              precision    recall  f1-score   support\n",
      "\n",
      "           0       0.99      0.99      0.99     55080\n",
      "           1       0.80      0.73      0.76      1836\n",
      "\n",
      "    accuracy                           0.99     56916\n",
      "   macro avg       0.90      0.86      0.88     56916\n",
      "weighted avg       0.98      0.99      0.99     56916\n",
      "\n"
     ]
    }
   ],
   "source": [
    "print('Best weights:', grid_weights.best_estimator_.get_params()['class_weight'])\n",
    "print(\"f1-score on test set : \", f1_score(y_test, y_test_pred))\n",
    "print(classification_report(y_test, y_test_pred))"
   ]
  },
  {
   "cell_type": "markdown",
   "metadata": {},
   "source": [
    "#### We obtained the same perfomance (f1 of 0.7647) and the best weights identified are {0: 0.40, 1: 0.60}. It is though interesting to note that in comparison to the initial model, we have a better recall (0.73 vs 0.69) but a worst precision (0.80 vs 0.85)."
   ]
  },
  {
   "cell_type": "markdown",
   "metadata": {},
   "source": [
    "#### Finally, by optimizing the probability threshold and the class weights, we didn't manage to improve the f1-score of our model. We will now try other classification models : decision trees and randown forests."
   ]
  },
  {
   "cell_type": "markdown",
   "metadata": {},
   "source": [
    "## 4. Decision tree and random forest"
   ]
  },
  {
   "cell_type": "markdown",
   "metadata": {},
   "source": [
    "### 4.1 Decision tree"
   ]
  },
  {
   "cell_type": "markdown",
   "metadata": {},
   "source": [
    "#### A decision tree permits to characterize the space defined by the explanatory variables as a grid. By contruction, it can exploit any non-linear relationships between variables that could lead to better prediction performances."
   ]
  },
  {
   "cell_type": "code",
   "execution_count": 214,
   "metadata": {},
   "outputs": [],
   "source": [
    "# preprocessing : it is not necessary to scale the quantitative variables for the fitting of a tree :\n",
    "# The 'stratify' argument is extremely important here because our dataset is very unbalanced (97/3)\n",
    "X_train, X_test, y_train, y_test = train_test_split(data.drop('converted', axis=1), data['converted'],\n",
    "                                                    test_size=0.2, random_state=0, stratify=data['converted'])\n",
    "\n",
    "X_train = X_train.values\n",
    "X_test = X_test.values\n",
    "y_train = y_train.values\n",
    "y_test = y_test.values\n",
    "\n",
    "numeric_transformer = Pipeline(steps=[\n",
    "    ('passthrough', 'passthrough' )\n",
    "])\n",
    "categorical_transformer = Pipeline(\n",
    "    steps=[\n",
    "    ('encoder', OneHotEncoder(drop='first')) # first column will be dropped to avoid creating correlations between features\n",
    "    ])\n",
    "\n",
    "# Use ColumnTranformer to make a preprocessor object that describes all the treatments to be done\n",
    "preprocessor = ColumnTransformer(\n",
    "    transformers=[\n",
    "        ('num', numeric_transformer, [3,4]),\n",
    "        ('cat', categorical_transformer, [0,1,2])     \n",
    "    ])\n",
    "\n",
    "# Preprocessing on train set\n",
    "X_train = preprocessor.fit_transform(X_train)\n",
    "# Preprocessing on test set\n",
    "X_test = preprocessor.transform(X_test)"
   ]
  },
  {
   "cell_type": "code",
   "execution_count": 215,
   "metadata": {},
   "outputs": [
    {
     "name": "stdout",
     "output_type": "stream",
     "text": [
      "accuracy on training set : 0.9885\n",
      "accuracy on test set : 0.984\n",
      "f1-score on train set : 0.8012\n",
      "f1-score on test set : 0.7233\n"
     ]
    }
   ],
   "source": [
    "# Let's find out how a regular tree performs before tuning its hyper-parameters.\n",
    "tree_classifier = DecisionTreeClassifier()\n",
    "tree_classifier.fit(X_train,y_train)\n",
    "y_train_pred = tree_classifier.predict(X_train)\n",
    "y_test_pred = tree_classifier.predict(X_test)\n",
    "\n",
    "print(\"accuracy on training set : {:.4}\".format(accuracy_score(y_train, y_train_pred)))\n",
    "print(\"accuracy on test set : {:.4}\".format(accuracy_score(y_test, y_test_pred)))\n",
    "print(\"f1-score on train set : {:.4}\".format(f1_score(y_train, y_train_pred)))\n",
    "print(\"f1-score on test set : {:.4}\".format(f1_score(y_test, y_test_pred)))"
   ]
  },
  {
   "cell_type": "markdown",
   "metadata": {},
   "source": [
    "#### We can see here that the model overfits : the performance are much better on the train set than on the test set. Using a grid search, we can tune the hyper-parameters of the model and improve its performance."
   ]
  },
  {
   "cell_type": "code",
   "execution_count": 205,
   "metadata": {},
   "outputs": [
    {
     "name": "stdout",
     "output_type": "stream",
     "text": [
      "CPU times: user 1min 3s, sys: 23 ms, total: 1min 3s\n",
      "Wall time: 1min 3s\n"
     ]
    },
    {
     "data": {
      "text/plain": [
       "{'max_depth': 10, 'min_samples_leaf': 8, 'min_samples_split': 2}"
      ]
     },
     "execution_count": 205,
     "metadata": {},
     "output_type": "execute_result"
    }
   ],
   "source": [
    "%%time\n",
    "tree_classifier_GS = DecisionTreeClassifier()\n",
    "params = {'max_depth' : [2,5,10,15],\n",
    "         'min_samples_split' : [2,5,10],\n",
    "         'min_samples_leaf' : [2,5,8,10]}\n",
    "\n",
    "grid = GridSearchCV(estimator=tree_classifier_GS, param_grid=params, cv=5, scoring=\"f1\")\n",
    "grid.fit(X_train, y_train)\n",
    "grid.best_params_"
   ]
  },
  {
   "cell_type": "code",
   "execution_count": 216,
   "metadata": {},
   "outputs": [
    {
     "name": "stdout",
     "output_type": "stream",
     "text": [
      "accuracy on training set : 0.9867\n",
      "accuracy on test set : 0.9852\n",
      "f1-score on train set : 0.7712\n",
      "f1-score on test set : 0.7453\n"
     ]
    }
   ],
   "source": [
    "y_train_pred = grid.predict(X_train)\n",
    "y_test_pred = grid.predict(X_test)\n",
    "\n",
    "print(\"accuracy on training set : {:.4}\".format(accuracy_score(y_train, y_train_pred)))\n",
    "print(\"accuracy on test set : {:.4}\".format(accuracy_score(y_test, y_test_pred)))\n",
    "print(\"f1-score on train set : {:.4}\".format(f1_score(y_train, y_train_pred)))\n",
    "print(\"f1-score on test set : {:.4}\".format(f1_score(y_test, y_test_pred)))"
   ]
  },
  {
   "cell_type": "markdown",
   "metadata": {},
   "source": [
    "#### Thanks to the grid search performed, we improved the performances of the model on test data and reduced the overfitting but so far, the f1-score is actually lower than the ones we obtained with a logistic regression model."
   ]
  },
  {
   "cell_type": "markdown",
   "metadata": {},
   "source": [
    "### 4.2 Random forest"
   ]
  },
  {
   "cell_type": "markdown",
   "metadata": {},
   "source": [
    "#### Using the principal of bagging (bootstrap + aggregating ), a random forest can help us exploiting in a more efficient way the information contained in our dataset. Even if we don't have a lot of variables, the dataset is quite large (almost 300 k observations) and we saw earlier how difficult it was to detect fundamental differences between the profiles of the True Positives and False Negatives in our predictions. Let's see in a random forest helps us improving our result."
   ]
  },
  {
   "cell_type": "code",
   "execution_count": 223,
   "metadata": {},
   "outputs": [
    {
     "name": "stdout",
     "output_type": "stream",
     "text": [
      "accuracy on training set : 0.9873\n",
      "accuracy on test set : 0.9853\n",
      "f1-score on train set : 0.7819\n",
      "f1-score on test set : 0.7488\n",
      "CPU times: user 7min 18s, sys: 632 ms, total: 7min 19s\n",
      "Wall time: 7min 19s\n"
     ]
    }
   ],
   "source": [
    "%%time\n",
    "param = {\"n_estimators\": [50,100,200],\n",
    "        \"max_depth\": [5,10],\n",
    "        \"min_samples_split\": [2,5]}\n",
    "rf_classifier = RandomForestClassifier()\n",
    "\n",
    "grid = GridSearchCV(rf_classifier, param_grid=param, scoring = \"f1\")\n",
    "grid.fit(X_train,y_train)\n",
    "\n",
    "y_train_pred = grid.predict(X_train)\n",
    "y_test_pred = grid.predict(X_test)\n",
    "\n",
    "print(\"accuracy on training set : {:.4}\".format(accuracy_score(y_train, y_train_pred)))\n",
    "print(\"accuracy on test set : {:.4}\".format(accuracy_score(y_test, y_test_pred)))\n",
    "print(\"f1-score on train set : {:.4}\".format(f1_score(y_train, y_train_pred)))\n",
    "print(\"f1-score on test set : {:.4}\".format(f1_score(y_test, y_test_pred)))"
   ]
  },
  {
   "cell_type": "code",
   "execution_count": 225,
   "metadata": {},
   "outputs": [
    {
     "name": "stdout",
     "output_type": "stream",
     "text": [
      "{'max_depth': 10, 'min_samples_split': 5, 'n_estimators': 50}\n"
     ]
    }
   ],
   "source": [
    "print(grid.best_params_)"
   ]
  },
  {
   "cell_type": "markdown",
   "metadata": {},
   "source": [
    "#### By trying many other parameters in the grid search performed, we should be able to determine a Random Forest Classifier which does not overfit. Anyway, the f1-score of the model on test data we obtained so far is actually lower than the one we obtained with a logistic regression model. For this reason and because of the complexity of a random forest model compared to a logistic regression, we decide not to go further in this direction."
   ]
  },
  {
   "cell_type": "markdown",
   "metadata": {},
   "source": [
    "## 4.3 Conclusion for our first business objective\n",
    "#### The first objective was to *develop the best possible model to predict wether a user is converted or not using every information available*.\n",
    "#### After using several techniques in order to optimize the performance of our first logistic regression model (error analysis, optimization of probability threshold, optimization of class weights) and trying to use other models as Decision Tree and Random Forest, we didn't improve the performance of the simplest model : the regular logistic regression (f1-score of 0.76).\n",
    "#### Since this model is the simplest we developped and presents decent performances, our recommendation is to use this one.\n",
    "#### In the future, it might be interesting to try other models such as SVM and some boosting techniques (AdaBoost for example)."
   ]
  },
  {
   "cell_type": "markdown",
   "metadata": {},
   "source": [
    "## 5. Recommendations using realistic business information"
   ]
  },
  {
   "cell_type": "markdown",
   "metadata": {},
   "source": [
    "#### The objective of this last section is to propose some recommendations in the perspective of targeting new users in order to maximize the probality of 'converting' them (i.e. find the most likely users to subscribe to the newsletter).\n",
    "#### Thus, we will not used all available data but we will instead remove the 'total_pages_visited' variable considering that it would not be possible to improve this lever when targetting potential users."
   ]
  },
  {
   "cell_type": "markdown",
   "metadata": {},
   "source": [
    "#### 5.1 Let's see the feature importance of this dataset"
   ]
  },
  {
   "cell_type": "code",
   "execution_count": 229,
   "metadata": {},
   "outputs": [
    {
     "data": {
      "text/plain": [
       "Index(['country', 'new_user', 'source', 'age', 'total_pages_visited',\n",
       "       'converted'],\n",
       "      dtype='object')"
      ]
     },
     "execution_count": 229,
     "metadata": {},
     "output_type": "execute_result"
    }
   ],
   "source": [
    "data.columns"
   ]
  },
  {
   "cell_type": "code",
   "execution_count": 230,
   "metadata": {},
   "outputs": [
    {
     "data": {
      "text/html": [
       "<div>\n",
       "<style scoped>\n",
       "    .dataframe tbody tr th:only-of-type {\n",
       "        vertical-align: middle;\n",
       "    }\n",
       "\n",
       "    .dataframe tbody tr th {\n",
       "        vertical-align: top;\n",
       "    }\n",
       "\n",
       "    .dataframe thead th {\n",
       "        text-align: right;\n",
       "    }\n",
       "</style>\n",
       "<table border=\"1\" class=\"dataframe\">\n",
       "  <thead>\n",
       "    <tr style=\"text-align: right;\">\n",
       "      <th></th>\n",
       "      <th>F score</th>\n",
       "      <th>p-value</th>\n",
       "    </tr>\n",
       "  </thead>\n",
       "  <tbody>\n",
       "    <tr>\n",
       "      <th>x2_Direct</th>\n",
       "      <td>6737.133487</td>\n",
       "      <td>0.000000e+00</td>\n",
       "    </tr>\n",
       "    <tr>\n",
       "      <th>x0_Germany</th>\n",
       "      <td>2257.286255</td>\n",
       "      <td>0.000000e+00</td>\n",
       "    </tr>\n",
       "    <tr>\n",
       "      <th>x0_US</th>\n",
       "      <td>677.039999</td>\n",
       "      <td>4.403019e-149</td>\n",
       "    </tr>\n",
       "    <tr>\n",
       "      <th>x1_1</th>\n",
       "      <td>375.889602</td>\n",
       "      <td>1.106670e-83</td>\n",
       "    </tr>\n",
       "    <tr>\n",
       "      <th>x0_UK</th>\n",
       "      <td>354.358494</td>\n",
       "      <td>5.323175e-79</td>\n",
       "    </tr>\n",
       "    <tr>\n",
       "      <th>x2_Seo</th>\n",
       "      <td>53.242044</td>\n",
       "      <td>2.956420e-13</td>\n",
       "    </tr>\n",
       "    <tr>\n",
       "      <th>age</th>\n",
       "      <td>3.310654</td>\n",
       "      <td>6.883313e-02</td>\n",
       "    </tr>\n",
       "  </tbody>\n",
       "</table>\n",
       "</div>"
      ],
      "text/plain": [
       "                F score        p-value\n",
       "x2_Direct   6737.133487   0.000000e+00\n",
       "x0_Germany  2257.286255   0.000000e+00\n",
       "x0_US        677.039999  4.403019e-149\n",
       "x1_1         375.889602   1.106670e-83\n",
       "x0_UK        354.358494   5.323175e-79\n",
       "x2_Seo        53.242044   2.956420e-13\n",
       "age            3.310654   6.883313e-02"
      ]
     },
     "metadata": {},
     "output_type": "display_data"
    }
   ],
   "source": [
    "# Preprocessing, note that we do not need an imputer since no information is missing.\n",
    "X = data.drop(['converted', 'total_pages_visited'], axis=1)\n",
    "y = data['converted']\n",
    "\n",
    "numeric_transformer = Pipeline(steps=[\n",
    "    ('scaler', StandardScaler())\n",
    "])\n",
    "\n",
    "categorical_transformer = Pipeline(\n",
    "    steps=[\n",
    "    ('encoder', OneHotEncoder(drop='first')) # first column will be dropped to avoid creating colinearity between features\n",
    "    ])\n",
    "\n",
    "# we use ColumnTranformer to build a preprocessor object that wraps all the treatments to be done on the variables\n",
    "preprocessor = ColumnTransformer(\n",
    "    transformers=[\n",
    "        ('num', numeric_transformer, [3]),\n",
    "        ('cat', categorical_transformer, [0,1,2])     \n",
    "    ])\n",
    "\n",
    "X = preprocessor.fit_transform(X)\n",
    "\n",
    "# Retrieve name of the features\n",
    "features = list(preprocessor.transformers_[1][1]['encoder'].get_feature_names())\n",
    "features.extend(['age'])\n",
    "\n",
    "feature_analysis = pd.DataFrame(columns=['F score','p-value'],\n",
    "                                data=np.array(f_classif(X, y)).T,\n",
    "                                index=features)\n",
    "display(feature_analysis.sort_values(by='F score', ascending=False))"
   ]
  },
  {
   "cell_type": "markdown",
   "metadata": {},
   "source": [
    "#### *Recommendation*\n",
    "#### It appears clearly that the most important factors to target are the 'direct' source and the country 'Germany'. Hence, in order to imporve to conversion rate of this website, we can recommend to encourage all converted users from Germany to explain to their colleagues/friends/relatives interested in data science how satisfied they are with the newsletter."
   ]
  },
  {
   "cell_type": "markdown",
   "metadata": {},
   "source": [
    "#### 5.2 Let's see how a logistic regression performs on the dataset without the 'total_pages_visited'"
   ]
  },
  {
   "cell_type": "code",
   "execution_count": 239,
   "metadata": {},
   "outputs": [],
   "source": [
    "# Preprocessing\n",
    "# The 'stratify' argument is extremely important here because our dataset is very unbalanced (97/3)\n",
    "X_train, X_test, y_train, y_test = train_test_split(data.drop(['converted', 'total_pages_visited'], axis=1), data['converted'],\n",
    "                                                    test_size=0.2, random_state=0, stratify=data['converted'])"
   ]
  },
  {
   "cell_type": "code",
   "execution_count": 240,
   "metadata": {},
   "outputs": [],
   "source": [
    "X_train = X_train.values\n",
    "X_test = X_test.values\n",
    "y_train = y_train.values\n",
    "y_test = y_test.values\n",
    "\n",
    "numeric_transformer = Pipeline(steps=[\n",
    "    ('scaler', StandardScaler())\n",
    "])\n",
    "\n",
    "categorical_transformer = Pipeline(\n",
    "    steps=[\n",
    "    ('encoder', OneHotEncoder(drop='first')) # first column will be dropped to avoid creating correlations between features\n",
    "    ])\n",
    "\n",
    "# Use ColumnTranformer to make a preprocessor object that describes all the treatments to be done\n",
    "preprocessor = ColumnTransformer(\n",
    "    transformers=[\n",
    "        ('num', numeric_transformer, [3]),\n",
    "        ('cat', categorical_transformer, [0,1,2])     \n",
    "    ])\n",
    "\n",
    "# Preprocessing on train set\n",
    "X_train = preprocessor.fit_transform(X_train)\n",
    "# Preprocessing on test set\n",
    "X_test = preprocessor.transform(X_test)"
   ]
  },
  {
   "cell_type": "code",
   "execution_count": 242,
   "metadata": {},
   "outputs": [
    {
     "name": "stdout",
     "output_type": "stream",
     "text": [
      "f1-score on train set : 0.0\n",
      "f1-score on test set : 0.0\n",
      "              precision    recall  f1-score   support\n",
      "\n",
      "           0       0.97      1.00      0.98     55080\n",
      "           1       0.00      0.00      0.00      1836\n",
      "\n",
      "    accuracy                           0.97     56916\n",
      "   macro avg       0.48      0.50      0.49     56916\n",
      "weighted avg       0.94      0.97      0.95     56916\n",
      "\n"
     ]
    },
    {
     "name": "stderr",
     "output_type": "stream",
     "text": [
      "/opt/conda/lib/python3.8/site-packages/sklearn/metrics/_classification.py:1221: UndefinedMetricWarning:\n",
      "\n",
      "Precision and F-score are ill-defined and being set to 0.0 in labels with no predicted samples. Use `zero_division` parameter to control this behavior.\n",
      "\n"
     ]
    }
   ],
   "source": [
    "classifier = LogisticRegression()\n",
    "classifier.fit(X_train, y_train)\n",
    "\n",
    "y_train_pred = classifier.predict(X_train)\n",
    "y_test_pred = classifier.predict(X_test)\n",
    "\n",
    "print(\"f1-score on train set : {:.4}\".format(f1_score(y_train, y_train_pred)))\n",
    "print(\"f1-score on test set : {:.4}\".format(f1_score(y_test, y_test_pred)))\n",
    "print(classification_report(y_test, y_test_pred))"
   ]
  },
  {
   "cell_type": "markdown",
   "metadata": {},
   "source": [
    "#### Without the variable 'total_pages_visited', our model completely fails to predict users that could be converted. We can correct this by using several techniques (probability threshold optimisation for example) and for this part, we will use under_sampling.\n",
    "#### The principal is to determine the best sampling strategy (number of 'non_converted' users versus number of 'converted' users) in order to maximise the performances of our model. To do so, we use the 'imbalanced-learn' library and tries many sampling strategy (following the principal of a grid search)."
   ]
  },
  {
   "cell_type": "code",
   "execution_count": 28,
   "metadata": {},
   "outputs": [],
   "source": [
    "f1_train = []\n",
    "f1_test = []\n",
    "X = data.drop(['converted','total_pages_visited'], axis=1)\n",
    "y = data['converted']\n",
    "\n",
    "for i in range(4,75):\n",
    "    \n",
    "    X_train, X_test, y_train, y_test = train_test_split(X, y, test_size=0.2, random_state=0, stratify=y)\n",
    "    total_converted = y_train.sum()\n",
    "    \n",
    "    # We set the under_sampler strategy based on the converted population and by imposing to have a population of non_converted equals to (100/i * converted)\n",
    "    under_sampler = RandomUnderSampler(sampling_strategy={0:int(total_converted/(i/100)), 1:total_converted})\n",
    "\n",
    "    # fit the object to the training data.\n",
    "    X_train_under, y_train_under = under_sampler.fit_resample(X_train, y_train)\n",
    "\n",
    "    X_train_under = X_train_under.values\n",
    "    X_test = X_test.values\n",
    "    y_test = y_test.values\n",
    "    y_train_under = y_train_under.values\n",
    "\n",
    "    numeric_transformer = Pipeline(steps=[\n",
    "        ('scaler', StandardScaler())\n",
    "    ])\n",
    "\n",
    "    categorical_transformer = Pipeline(\n",
    "        steps=[\n",
    "        ('encoder', OneHotEncoder(drop='first')) # first column will be dropped to avoid creating correlations between features\n",
    "        ])\n",
    "\n",
    "    # Use ColumnTranformer to make a preprocessor object that describes all the treatments to be done\n",
    "    preprocessor = ColumnTransformer(\n",
    "        transformers=[\n",
    "            ('num', numeric_transformer, [3]),\n",
    "            ('cat', categorical_transformer, [0,1,2])     \n",
    "        ])\n",
    "\n",
    "    # Preprocessings on train set\n",
    "    X_train_under = preprocessor.fit_transform(X_train_under)\n",
    "    # Preprocessings on test set\n",
    "    X_test = preprocessor.transform(X_test)\n",
    "\n",
    "    classifier = LogisticRegression()\n",
    "    classifier.fit(X_train_under, y_train_under)\n",
    "\n",
    "    y_train_pred = classifier.predict(X_train_under)\n",
    "    y_test_pred = classifier.predict(X_test)\n",
    "    \n",
    "    f1_train.append(f1_score(y_train_under, y_train_pred))\n",
    "    f1_test.append(f1_score(y_test, y_test_pred))"
   ]
  },
  {
   "cell_type": "markdown",
   "metadata": {},
   "source": [
    "#### Finally, without the 'total_pages_visited', we manage to reach a f1-score of 0.22 thanks to the relevant under_sampling strategy :"
   ]
  },
  {
   "cell_type": "code",
   "execution_count": 34,
   "metadata": {},
   "outputs": [
    {
     "name": "stdout",
     "output_type": "stream",
     "text": [
      "The best f1-score on train data is 0.6936.\n",
      "The best f1-score on test data is 0.2183.\n",
      "It has been obtained with the following under_sampling strategy : 7342 'converted' users and 23683 'non_converted' users.\n"
     ]
    }
   ],
   "source": [
    "print('The best f1-score on train data is {:.4}.'.format(np.max(f1_train)))\n",
    "print('The best f1-score on test data is {:.4}.'.format(np.max(f1_test)))\n",
    "print('It has been obtained with the following under_sampling strategy : {:d} \\'converted\\' users and {:d} \\'non_converted\\' users.'.format(total_converted, int(100*total_converted/(np.argmax(f1_test)+4))))"
   ]
  }
 ],
 "metadata": {
  "kernelspec": {
   "display_name": "Python 3",
   "language": "python",
   "name": "python3"
  },
  "language_info": {
   "codemirror_mode": {
    "name": "ipython",
    "version": 3
   },
   "file_extension": ".py",
   "mimetype": "text/x-python",
   "name": "python",
   "nbconvert_exporter": "python",
   "pygments_lexer": "ipython3",
   "version": "3.8.6"
  }
 },
 "nbformat": 4,
 "nbformat_minor": 4
}

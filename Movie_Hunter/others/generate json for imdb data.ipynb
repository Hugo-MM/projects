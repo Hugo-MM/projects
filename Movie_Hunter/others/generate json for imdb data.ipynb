{
 "cells": [
  {
   "cell_type": "markdown",
   "metadata": {},
   "source": [
    "### This notebook was developped in order to process the data availalbe from IMDb (https://www.kaggle.com/stefanoleone992/imdb-extensive-dataset) into a json file that could quickly be fed into the app database."
   ]
  },
  {
   "cell_type": "code",
   "execution_count": null,
   "metadata": {},
   "outputs": [],
   "source": [
    "import json\n",
    "import pandas as pd\n",
    "import numpy as np"
   ]
  },
  {
   "cell_type": "code",
   "execution_count": null,
   "metadata": {},
   "outputs": [],
   "source": [
    "all_movies = pd.read_csv('archive/IMDB movies.csv',\n",
    "                        usecols= [\n",
    "                            'imdb_title_id',\n",
    "                            'original_title',\n",
    "                            'year',\n",
    "                            'genre',\n",
    "                            'duration',\n",
    "                            'country',\n",
    "                            'language',\n",
    "                            'director',\n",
    "                            'writer',\n",
    "                            'actors',\n",
    "                            'description',\n",
    "                            'avg_vote',\n",
    "                            'votes'\n",
    "                        ])"
   ]
  },
  {
   "cell_type": "markdown",
   "metadata": {},
   "source": [
    "### 1. Processing the 'features' for all movies"
   ]
  },
  {
   "cell_type": "code",
   "execution_count": 1,
   "metadata": {},
   "outputs": [],
   "source": [
    "# For the sake of simplicity we keep :\n",
    "#   - first 3 informations for 'genre'\n",
    "#   - first 1 information for 'country'\n",
    "#   - first 1 information for 'language'\n",
    "#   - first 3 informations for 'directors'\n",
    "#   - first 3 informations for 'writers'\n",
    "#   - first 10 informations for 'actors'"
   ]
  },
  {
   "cell_type": "code",
   "execution_count": null,
   "metadata": {},
   "outputs": [],
   "source": [
    "all_movies['genre_list'] = all_movies['genre'].astype(str).apply(lambda x: x.replace(', ',',').split(','))\n",
    "all_movies['country_list'] = all_movies['country'].astype(str).apply(lambda x: x.replace(', ',',').split(','))\n",
    "all_movies['language_list'] = all_movies['language'].astype(str).apply(lambda x: x.replace(', ',',').split(','))\n",
    "all_movies['director_list'] = all_movies['director'].astype(str).apply(lambda x: x.replace(', ',',').split(','))\n",
    "all_movies['writer_list'] = all_movies['writer'].astype(str).apply(lambda x: x.replace(', ',',').split(','))\n",
    "all_movies['actors_list'] = all_movies['actors'].astype(str).apply(lambda x: x.replace(', ',',').split(','))"
   ]
  },
  {
   "cell_type": "code",
   "execution_count": null,
   "metadata": {},
   "outputs": [],
   "source": [
    "df_genre = pd.DataFrame([all_movies['genre_list'], all_movies['imdb_title_id']]).T\n",
    "df_country = pd.DataFrame([all_movies['country_list'], all_movies['imdb_title_id']]).T\n",
    "df_language = pd.DataFrame([all_movies['language_list'], all_movies['imdb_title_id']]).T\n",
    "df_directors = pd.DataFrame([all_movies['director_list'], all_movies['imdb_title_id']]).T\n",
    "df_writers = pd.DataFrame([all_movies['writer_list'], all_movies['imdb_title_id']]).T\n",
    "df_actors = pd.DataFrame([all_movies['actors_list'], all_movies['imdb_title_id']]).T"
   ]
  },
  {
   "cell_type": "code",
   "execution_count": null,
   "metadata": {},
   "outputs": [],
   "source": [
    "# 3 for genre\n",
    "for i in range(3):\n",
    "    df_genre['genre_' + str(i)] = df_genre['genre_list'].apply(lambda x: x[i] if len(x) > i else None)\n",
    "# 1 for country\n",
    "df_country['country'] = df_country['country_list'].apply(lambda x: x[0] if len(x) > 0 else None)\n",
    "# 1 for language\n",
    "df_language['language'] = df_language['language_list'].apply(lambda x: x[0] if len(x) > 0 else None)\n",
    "# 3 for directors\n",
    "for i in range(3):\n",
    "    df_directors['director_' + str(i)] = df_directors['director_list'].apply(lambda x: x[i] if len(x) > i else None)\n",
    "# 3 for writers\n",
    "for i in range(3):\n",
    "    df_writers['writer_' + str(i)] = df_writers['writer_list'].apply(lambda x: x[i] if len(x) > i else None)\n",
    "# 10 for actors\n",
    "for i in range(10):\n",
    "    df_actors['actor_' + str(i)] = df_actors['actors_list'].apply(lambda x: x[i] if len(x) > i else None)"
   ]
  },
  {
   "cell_type": "code",
   "execution_count": null,
   "metadata": {},
   "outputs": [],
   "source": [
    "df_genre_0 = df_genre[['genre_0', 'imdb_title_id']].rename(columns={'genre_0':'genre'})\n",
    "df_genre_1 = df_genre[['genre_1', 'imdb_title_id']].rename(columns={'genre_1':'genre'})\n",
    "df_genre_2 = df_genre[['genre_2', 'imdb_title_id']].rename(columns={'genre_2':'genre'})\n",
    "df_genre_union = pd.concat([df_genre_0,df_genre_1,df_genre_2]).dropna()\n",
    "\n",
    "df_director_0 = df_directors[['director_0', 'imdb_title_id']].rename(columns={'director_0':'director'})\n",
    "df_director_1 = df_directors[['director_1', 'imdb_title_id']].rename(columns={'director_1':'director'})\n",
    "df_director_2 = df_directors[['director_2', 'imdb_title_id']].rename(columns={'director_2':'director'})\n",
    "df_director_union = pd.concat([df_director_0,df_director_1,df_director_2]).dropna()\n",
    "\n",
    "df_writers_0 = df_writers[['writer_0', 'imdb_title_id']].rename(columns={'writer_0':'writer'})\n",
    "df_writers_1 = df_writers[['writer_1', 'imdb_title_id']].rename(columns={'writer_1':'writer'})\n",
    "df_writers_2 = df_writers[['writer_2', 'imdb_title_id']].rename(columns={'writer_2':'writer'})\n",
    "df_writer_union = pd.concat([df_writers_0,df_writers_1,df_writers_2]).dropna()\n",
    "\n",
    "df_actors_0 = df_actors[['actor_0', 'imdb_title_id']].rename(columns={'actor_0':'actor'})\n",
    "df_actors_1 = df_actors[['actor_1', 'imdb_title_id']].rename(columns={'actor_1':'actor'})\n",
    "df_actors_2 = df_actors[['actor_2', 'imdb_title_id']].rename(columns={'actor_2':'actor'})\n",
    "df_actors_3 = df_actors[['actor_3', 'imdb_title_id']].rename(columns={'actor_3':'actor'})\n",
    "df_actors_4 = df_actors[['actor_4', 'imdb_title_id']].rename(columns={'actor_4':'actor'})\n",
    "df_actors_5 = df_actors[['actor_5', 'imdb_title_id']].rename(columns={'actor_5':'actor'})\n",
    "df_actors_6 = df_actors[['actor_6', 'imdb_title_id']].rename(columns={'actor_6':'actor'})\n",
    "df_actors_7 = df_actors[['actor_7', 'imdb_title_id']].rename(columns={'actor_7':'actor'})\n",
    "df_actors_8 = df_actors[['actor_8', 'imdb_title_id']].rename(columns={'actor_8':'actor'})\n",
    "df_actors_9 = df_actors[['actor_9', 'imdb_title_id']].rename(columns={'actor_9':'actor'})\n",
    "df_actor_union = pd.concat([df_actors_0,df_actors_1,df_actors_2,df_actors_3, df_actors_4, df_actors_5,\n",
    "                              df_actors_6, df_actors_7, df_actors_8, df_actors_9]).dropna()"
   ]
  },
  {
   "cell_type": "code",
   "execution_count": null,
   "metadata": {},
   "outputs": [],
   "source": [
    "#genre\n",
    "genre_db = df_genre_union[['genre']].drop_duplicates().reset_index(drop=True)\n",
    "genre_db['genre_pk'] = genre_db.index+1\n",
    "\n",
    "#country\n",
    "country_db = df_country[['country']].drop_duplicates().reset_index(drop=True)\n",
    "country_db['country_pk'] = country_db.index+1\n",
    "\n",
    "# language\n",
    "language_db = df_language[['language']].drop_duplicates().reset_index(drop=True)\n",
    "language_db['language_pk'] = language_db.index+1\n",
    "\n",
    "# directors\n",
    "director_db = df_director_union[['director']].drop_duplicates().reset_index(drop=True)\n",
    "director_db['director_pk'] = director_db.index+1\n",
    "\n",
    "# writers\n",
    "writer_db = df_writer_union[['writer']].drop_duplicates().reset_index(drop=True)\n",
    "writer_db['writer_pk'] = writer_db.index+1\n",
    "\n",
    "# actors\n",
    "actor_db = df_actor_union[['actor']].drop_duplicates().reset_index(drop=True)\n",
    "actor_db['actor_pk'] = actor_db.index+1"
   ]
  },
  {
   "cell_type": "code",
   "execution_count": null,
   "metadata": {},
   "outputs": [],
   "source": [
    "#genre\n",
    "genre_for_movies = pd.merge(genre_db, df_genre_union, on='genre')\n",
    "\n",
    "#country\n",
    "country_for_movies = pd.merge(country_db, df_country[['country','imdb_title_id']], on='country')\n",
    "\n",
    "# language\n",
    "language_for_movies = pd.merge(language_db, df_language[['language','imdb_title_id']], on='language')\n",
    "\n",
    "# directors\n",
    "director_for_movies = pd.merge(director_db, df_director_union, on='director')\n",
    "\n",
    "# writers\n",
    "writer_for_movies = pd.merge(writer_db, df_writer_union, on='writer')\n",
    "\n",
    "# actors\n",
    "actor_for_movies = pd.merge(actor_db, df_actor_union, on='actor')"
   ]
  },
  {
   "cell_type": "code",
   "execution_count": null,
   "metadata": {},
   "outputs": [],
   "source": [
    "# Note that we instanciate here the pk of each feature, which must start at 1 for each class\n",
    "# (hence the index+1).\n",
    "features_data_for_json = []\n",
    "\n",
    "#genre_db\n",
    "for elt in list(zip(genre_db['genre_pk'],genre_db['genre'])):\n",
    "    dict_genre = {'model':'movie_reco.genre', 'pk': elt[0]}\n",
    "    dict_genre['fields'] = {'name': elt[1]}\n",
    "    features_data_for_json.append(dict_genre)\n",
    "\n",
    "#country_db\n",
    "for elt in list(zip(country_db['country_pk'],country_db['country'])):\n",
    "    dict_country = {'model':'movie_reco.country', 'pk': elt[0]}\n",
    "    dict_country['fields'] = {'name': elt[1]}\n",
    "    features_data_for_json.append(dict_country)\n",
    "\n",
    "#language_db\n",
    "for elt in list(zip(language_db['language_pk'],language_db['language'])):\n",
    "    dict_language = {'model':'movie_reco.language', 'pk': elt[0]}\n",
    "    dict_language['fields'] = {'name': elt[1]}\n",
    "    features_data_for_json.append(dict_language)\n",
    "\n",
    "#director_db\n",
    "for elt in list(zip(director_db['director_pk'],director_db['director'])):\n",
    "    dict_director = {'model':'movie_reco.director', 'pk': elt[0]}\n",
    "    full_name = elt[1].split(' ')\n",
    "    dict_director['fields'] = {'first_name': full_name[0], 'last_name':full_name[-1]}\n",
    "    features_data_for_json.append(dict_director)\n",
    "\n",
    "#writer_db\n",
    "for elt in list(zip(writer_db['writer_pk'],writer_db['writer'])):\n",
    "    dict_writer = {'model':'movie_reco.writer', 'pk': elt[0]}\n",
    "    full_name = elt[1].split(' ')\n",
    "    dict_writer['fields'] = {'first_name': full_name[0], 'last_name':full_name[-1]}\n",
    "    features_data_for_json.append(dict_writer)\n",
    "\n",
    "#actor_db\n",
    "for elt in list(zip(actor_db['actor_pk'],actor_db['actor'])):\n",
    "    dict_actor = {'model':'movie_reco.actor', 'pk': elt[0]}\n",
    "    full_name = elt[1].split(' ')\n",
    "    dict_actor['fields'] = {'first_name': full_name[0], 'last_name':full_name[-1]}\n",
    "    features_data_for_json.append(dict_actor)"
   ]
  },
  {
   "cell_type": "code",
   "execution_count": null,
   "metadata": {},
   "outputs": [],
   "source": [
    "# Finally, we export the result in the json format.\n",
    "with open('all_features.json', 'w') as f:\n",
    "    json.dump(features_data_for_json, f, indent=4)"
   ]
  },
  {
   "cell_type": "markdown",
   "metadata": {},
   "source": [
    "### 2. Processing the movies"
   ]
  },
  {
   "cell_type": "code",
   "execution_count": null,
   "metadata": {},
   "outputs": [],
   "source": [
    "df_movies = all_movies[['imdb_title_id','original_title','year','duration','avg_vote']].dropna().reset_index(drop=True)"
   ]
  },
  {
   "cell_type": "code",
   "execution_count": null,
   "metadata": {},
   "outputs": [],
   "source": [
    "df_movies['movie_pk'] = df_movies.index + 1"
   ]
  },
  {
   "cell_type": "code",
   "execution_count": null,
   "metadata": {},
   "outputs": [],
   "source": [
    "df_movies = pd.merge(df_movies, genre_for_movies, on='imdb_title_id')\n",
    "df_movies = pd.merge(df_movies, country_for_movies, on='imdb_title_id')\n",
    "df_movies = pd.merge(df_movies, language_for_movies, on='imdb_title_id')\n",
    "df_movies = pd.merge(df_movies, director_for_movies, on='imdb_title_id')\n",
    "df_movies = pd.merge(df_movies, writer_for_movies, on='imdb_title_id')\n",
    "df_movies = pd.merge(df_movies, actor_for_movies, on='imdb_title_id')"
   ]
  },
  {
   "cell_type": "code",
   "execution_count": null,
   "metadata": {},
   "outputs": [],
   "source": [
    "movie_data_for_json = []\n",
    "movie_pk=[]\n",
    "i = 0\n",
    "total = df_movies.shape[0]\n",
    "for elt in list(zip(df_movies['movie_pk'],\n",
    "                    df_movies['original_title'],\n",
    "                    df_movies['imdb_title_id'],\n",
    "                    df_movies['year'],\n",
    "                    df_movies['duration'],\n",
    "                    df_movies['avg_vote'],\n",
    "                    df_movies['genre_pk'],\n",
    "                    df_movies['language_pk'],\n",
    "                    df_movies['country_pk'],\n",
    "                    df_movies['director_pk'],           \n",
    "                    df_movies['writer_pk'],\n",
    "                    df_movies['actor_pk'])):\n",
    "    \n",
    "    pk = elt[0]\n",
    "    i += 1\n",
    "    if i%100 == 0:\n",
    "        print(i/total * 100)\n",
    "    if pk in movie_pk:\n",
    "        idx_movie = movie_pk.index(pk)\n",
    "        if elt[6] not in dict_movie['fields']['genre']:\n",
    "            dict_movie['fields']['genre'].append(elt[6])\n",
    "            \n",
    "        if elt[9] not in dict_movie['fields']['director']:\n",
    "            dict_movie['fields']['director'].append(elt[9])\n",
    "            \n",
    "        if elt[10] not in dict_movie['fields']['writer']:\n",
    "            dict_movie['fields']['writer'].append(elt[10])\n",
    "            \n",
    "        if elt[11] not in dict_movie['fields']['actor']:\n",
    "            dict_movie['fields']['actor'].append(elt[11])\n",
    "        \n",
    "    else:\n",
    "        movie_pk.append(pk)\n",
    "        dict_movie = {'model':'movie_reco.movie', 'pk': pk}\n",
    "        dict_movie['fields'] = {'title': elt[1],\n",
    "                                'imdbid':elt[2],\n",
    "                                'year': elt[3],\n",
    "                                'duration': elt[4],\n",
    "                                'imdbid_rate':elt[5],\n",
    "                                'genre':[elt[6]],\n",
    "                                'language':[elt[7]],\n",
    "                                'country':[elt[8]],\n",
    "                                'director':[elt[9]],\n",
    "                                'writer':[elt[10]],\n",
    "                               'actor': [elt[11]]}\n",
    "        movie_data_for_json.append(dict_movie)"
   ]
  },
  {
   "cell_type": "code",
   "execution_count": null,
   "metadata": {},
   "outputs": [],
   "source": [
    "# Finally, we export the result in the json format.\n",
    "with open('movie_data.json', 'w') as f:\n",
    "    json.dump(movie_data_for_json, f, indent=4)"
   ]
  },
  {
   "cell_type": "code",
   "execution_count": null,
   "metadata": {},
   "outputs": [],
   "source": []
  },
  {
   "cell_type": "code",
   "execution_count": null,
   "metadata": {},
   "outputs": [],
   "source": []
  },
  {
   "cell_type": "code",
   "execution_count": null,
   "metadata": {},
   "outputs": [],
   "source": []
  },
  {
   "cell_type": "code",
   "execution_count": null,
   "metadata": {},
   "outputs": [],
   "source": []
  },
  {
   "cell_type": "code",
   "execution_count": null,
   "metadata": {},
   "outputs": [],
   "source": []
  },
  {
   "cell_type": "code",
   "execution_count": null,
   "metadata": {},
   "outputs": [],
   "source": []
  },
  {
   "cell_type": "code",
   "execution_count": 5,
   "metadata": {},
   "outputs": [],
   "source": [
    "import pandas as pd\n",
    "movie_data = pd.read_json('movie_data.json')"
   ]
  },
  {
   "cell_type": "code",
   "execution_count": 8,
   "metadata": {},
   "outputs": [],
   "source": [
    "movie_data['imdbid_raw'] = movie_data['fields'].apply(lambda x : x['imdbid'])"
   ]
  },
  {
   "cell_type": "code",
   "execution_count": 12,
   "metadata": {},
   "outputs": [],
   "source": [
    "movie_data['imdbid_processed'] = movie_data['imdbid_raw'].apply(lambda x: int(x.replace('tt', '')))\n",
    "# après cette transformation, on peut faire un pd.merge(df1,df2, on)"
   ]
  },
  {
   "cell_type": "code",
   "execution_count": 13,
   "metadata": {},
   "outputs": [
    {
     "data": {
      "text/html": [
       "<div>\n",
       "<style scoped>\n",
       "    .dataframe tbody tr th:only-of-type {\n",
       "        vertical-align: middle;\n",
       "    }\n",
       "\n",
       "    .dataframe tbody tr th {\n",
       "        vertical-align: top;\n",
       "    }\n",
       "\n",
       "    .dataframe thead th {\n",
       "        text-align: right;\n",
       "    }\n",
       "</style>\n",
       "<table border=\"1\" class=\"dataframe\">\n",
       "  <thead>\n",
       "    <tr style=\"text-align: right;\">\n",
       "      <th></th>\n",
       "      <th>model</th>\n",
       "      <th>pk</th>\n",
       "      <th>fields</th>\n",
       "      <th>imdbid_raw</th>\n",
       "      <th>imdbid_processed</th>\n",
       "    </tr>\n",
       "  </thead>\n",
       "  <tbody>\n",
       "    <tr>\n",
       "      <th>0</th>\n",
       "      <td>MovieReco.movie</td>\n",
       "      <td>1</td>\n",
       "      <td>{'title': 'Miss Jerry', 'imdbid': 'tt0000009',...</td>\n",
       "      <td>tt0000009</td>\n",
       "      <td>9</td>\n",
       "    </tr>\n",
       "    <tr>\n",
       "      <th>1</th>\n",
       "      <td>MovieReco.movie</td>\n",
       "      <td>2</td>\n",
       "      <td>{'title': 'The Story of the Kelly Gang', 'imdb...</td>\n",
       "      <td>tt0000574</td>\n",
       "      <td>574</td>\n",
       "    </tr>\n",
       "    <tr>\n",
       "      <th>2</th>\n",
       "      <td>MovieReco.movie</td>\n",
       "      <td>3</td>\n",
       "      <td>{'title': 'Den sorte drøm', 'imdbid': 'tt00018...</td>\n",
       "      <td>tt0001892</td>\n",
       "      <td>1892</td>\n",
       "    </tr>\n",
       "    <tr>\n",
       "      <th>3</th>\n",
       "      <td>MovieReco.movie</td>\n",
       "      <td>4</td>\n",
       "      <td>{'title': 'Cleopatra', 'imdbid': 'tt0002101', ...</td>\n",
       "      <td>tt0002101</td>\n",
       "      <td>2101</td>\n",
       "    </tr>\n",
       "    <tr>\n",
       "      <th>4</th>\n",
       "      <td>MovieReco.movie</td>\n",
       "      <td>5</td>\n",
       "      <td>{'title': 'L'Inferno', 'imdbid': 'tt0002130', ...</td>\n",
       "      <td>tt0002130</td>\n",
       "      <td>2130</td>\n",
       "    </tr>\n",
       "    <tr>\n",
       "      <th>...</th>\n",
       "      <td>...</td>\n",
       "      <td>...</td>\n",
       "      <td>...</td>\n",
       "      <td>...</td>\n",
       "      <td>...</td>\n",
       "    </tr>\n",
       "    <tr>\n",
       "      <th>85850</th>\n",
       "      <td>MovieReco.movie</td>\n",
       "      <td>85851</td>\n",
       "      <td>{'title': 'Le lion', 'imdbid': 'tt9908390', 'y...</td>\n",
       "      <td>tt9908390</td>\n",
       "      <td>9908390</td>\n",
       "    </tr>\n",
       "    <tr>\n",
       "      <th>85851</th>\n",
       "      <td>MovieReco.movie</td>\n",
       "      <td>85852</td>\n",
       "      <td>{'title': 'De Beentjes van Sint-Hildegard', 'i...</td>\n",
       "      <td>tt9911196</td>\n",
       "      <td>9911196</td>\n",
       "    </tr>\n",
       "    <tr>\n",
       "      <th>85852</th>\n",
       "      <td>MovieReco.movie</td>\n",
       "      <td>85853</td>\n",
       "      <td>{'title': 'Padmavyuhathile Abhimanyu', 'imdbid...</td>\n",
       "      <td>tt9911774</td>\n",
       "      <td>9911774</td>\n",
       "    </tr>\n",
       "    <tr>\n",
       "      <th>85853</th>\n",
       "      <td>MovieReco.movie</td>\n",
       "      <td>85854</td>\n",
       "      <td>{'title': 'Sokagin Çocuklari', 'imdbid': 'tt99...</td>\n",
       "      <td>tt9914286</td>\n",
       "      <td>9914286</td>\n",
       "    </tr>\n",
       "    <tr>\n",
       "      <th>85854</th>\n",
       "      <td>MovieReco.movie</td>\n",
       "      <td>85855</td>\n",
       "      <td>{'title': 'La vida sense la Sara Amat', 'imdbi...</td>\n",
       "      <td>tt9914942</td>\n",
       "      <td>9914942</td>\n",
       "    </tr>\n",
       "  </tbody>\n",
       "</table>\n",
       "<p>85855 rows × 5 columns</p>\n",
       "</div>"
      ],
      "text/plain": [
       "                 model     pk  \\\n",
       "0      MovieReco.movie      1   \n",
       "1      MovieReco.movie      2   \n",
       "2      MovieReco.movie      3   \n",
       "3      MovieReco.movie      4   \n",
       "4      MovieReco.movie      5   \n",
       "...                ...    ...   \n",
       "85850  MovieReco.movie  85851   \n",
       "85851  MovieReco.movie  85852   \n",
       "85852  MovieReco.movie  85853   \n",
       "85853  MovieReco.movie  85854   \n",
       "85854  MovieReco.movie  85855   \n",
       "\n",
       "                                                  fields imdbid_raw  \\\n",
       "0      {'title': 'Miss Jerry', 'imdbid': 'tt0000009',...  tt0000009   \n",
       "1      {'title': 'The Story of the Kelly Gang', 'imdb...  tt0000574   \n",
       "2      {'title': 'Den sorte drøm', 'imdbid': 'tt00018...  tt0001892   \n",
       "3      {'title': 'Cleopatra', 'imdbid': 'tt0002101', ...  tt0002101   \n",
       "4      {'title': 'L'Inferno', 'imdbid': 'tt0002130', ...  tt0002130   \n",
       "...                                                  ...        ...   \n",
       "85850  {'title': 'Le lion', 'imdbid': 'tt9908390', 'y...  tt9908390   \n",
       "85851  {'title': 'De Beentjes van Sint-Hildegard', 'i...  tt9911196   \n",
       "85852  {'title': 'Padmavyuhathile Abhimanyu', 'imdbid...  tt9911774   \n",
       "85853  {'title': 'Sokagin Çocuklari', 'imdbid': 'tt99...  tt9914286   \n",
       "85854  {'title': 'La vida sense la Sara Amat', 'imdbi...  tt9914942   \n",
       "\n",
       "       imdbid_processed  \n",
       "0                     9  \n",
       "1                   574  \n",
       "2                  1892  \n",
       "3                  2101  \n",
       "4                  2130  \n",
       "...                 ...  \n",
       "85850           9908390  \n",
       "85851           9911196  \n",
       "85852           9911774  \n",
       "85853           9914286  \n",
       "85854           9914942  \n",
       "\n",
       "[85855 rows x 5 columns]"
      ]
     },
     "execution_count": 13,
     "metadata": {},
     "output_type": "execute_result"
    }
   ],
   "source": [
    "movie_data"
   ]
  },
  {
   "cell_type": "code",
   "execution_count": null,
   "metadata": {},
   "outputs": [],
   "source": []
  },
  {
   "cell_type": "code",
   "execution_count": null,
   "metadata": {},
   "outputs": [],
   "source": []
  },
  {
   "cell_type": "code",
   "execution_count": null,
   "metadata": {},
   "outputs": [],
   "source": [
    "# garder dans le traitement de données l'imdbId"
   ]
  }
 ],
 "metadata": {
  "kernelspec": {
   "display_name": "Python 3",
   "language": "python",
   "name": "python3"
  },
  "language_info": {
   "codemirror_mode": {
    "name": "ipython",
    "version": 3
   },
   "file_extension": ".py",
   "mimetype": "text/x-python",
   "name": "python",
   "nbconvert_exporter": "python",
   "pygments_lexer": "ipython3",
   "version": "3.8.5"
  }
 },
 "nbformat": 4,
 "nbformat_minor": 4
}

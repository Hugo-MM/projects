{
 "cells": [
  {
   "cell_type": "markdown",
   "metadata": {},
   "source": [
    "### This notebook is dedicated to the first step of computation of a 'distance' metric between the synopsis of two movies.\n",
    "\n",
    "### All the movies desciption are cleaned and processed thanks to spacy in order to be able to compute then a TF-IDF matrix (Term Frequency - Inverse Document Frequency)."
   ]
  },
  {
   "cell_type": "code",
   "execution_count": null,
   "metadata": {},
   "outputs": [],
   "source": [
    "!pip install spacy -q"
   ]
  },
  {
   "cell_type": "code",
   "execution_count": 2,
   "metadata": {},
   "outputs": [
    {
     "data": {
      "text/plain": [
       "'3.1.1'"
      ]
     },
     "execution_count": 2,
     "metadata": {},
     "output_type": "execute_result"
    }
   ],
   "source": [
    "import re\n",
    "import pandas as pd\n",
    "import spacy\n",
    "spacy.__version__"
   ]
  },
  {
   "cell_type": "code",
   "execution_count": 3,
   "metadata": {},
   "outputs": [
    {
     "name": "stderr",
     "output_type": "stream",
     "text": [
      "/opt/conda/lib/python3.8/site-packages/IPython/core/interactiveshell.py:3145: DtypeWarning: Columns (3) have mixed types.Specify dtype option on import or set low_memory=False.\n",
      "  has_raised = await self.run_ast_nodes(code_ast.body, cell_name,\n"
     ]
    }
   ],
   "source": [
    "imdb = pd.read_csv('IMDb movies.csv',\n",
    "                   usecols=[\n",
    "                       'imdb_title_id',\n",
    "                       'title',\n",
    "                       'year',\n",
    "                       'genre',\n",
    "                       'duration',\n",
    "                       'country',\n",
    "                       'director',\n",
    "                       'writer',\n",
    "                       'actors',\n",
    "                       'description',\n",
    "                       'avg_vote'\n",
    "                   ])"
   ]
  },
  {
   "cell_type": "code",
   "execution_count": 4,
   "metadata": {},
   "outputs": [],
   "source": [
    "imdb = imdb[imdb['year'] != 'TV Movie 2019'] # one row has been wrongly filled."
   ]
  },
  {
   "cell_type": "code",
   "execution_count": 5,
   "metadata": {},
   "outputs": [],
   "source": [
    "imdb['imdb_title_id'] = imdb['imdb_title_id'].apply(lambda x: int(x.replace('tt', '')))\n",
    "imdb.rename(columns={'imdb_title_id':'imdbId', 'avg_note':'imdb_note'}, inplace=True) # to match the id column with the movielens file\n",
    "imdb['genre'] = imdb['genre'].str.lower().str.replace(' ','').str.split(',')"
   ]
  },
  {
   "cell_type": "code",
   "execution_count": 7,
   "metadata": {},
   "outputs": [
    {
     "name": "stdout",
     "output_type": "stream",
     "text": [
      "<class 'pandas.core.frame.DataFrame'>\n",
      "RangeIndex: 85854 entries, 0 to 85853\n",
      "Data columns (total 11 columns):\n",
      " #   Column       Non-Null Count  Dtype  \n",
      "---  ------       --------------  -----  \n",
      " 0   imdbId       85854 non-null  int64  \n",
      " 1   title        85854 non-null  object \n",
      " 2   year         85854 non-null  object \n",
      " 3   genre        85854 non-null  object \n",
      " 4   duration     85854 non-null  int64  \n",
      " 5   country      85790 non-null  object \n",
      " 6   director     85767 non-null  object \n",
      " 7   writer       84282 non-null  object \n",
      " 8   actors       85785 non-null  object \n",
      " 9   description  83739 non-null  object \n",
      " 10  avg_vote     85854 non-null  float64\n",
      "dtypes: float64(1), int64(2), object(8)\n",
      "memory usage: 7.2+ MB\n"
     ]
    }
   ],
   "source": [
    "imdb = imdb.reset_index(drop=True)\n",
    "imdb.info()"
   ]
  },
  {
   "cell_type": "code",
   "execution_count": 8,
   "metadata": {},
   "outputs": [
    {
     "data": {
      "text/plain": [
       "'Prince Kasatsky is a just and proud youth, shock and disappointment with the world bring him to church, he becomes father Sergius. It is a story of his piety and temptation.'"
      ]
     },
     "execution_count": 8,
     "metadata": {},
     "output_type": "execute_result"
    }
   ],
   "source": [
    "# Random description to understand better the texts we are dealing with.\n",
    "imdb['description'][100]"
   ]
  },
  {
   "cell_type": "markdown",
   "metadata": {},
   "source": [
    "### Now that we are comfortable with the dataset, we can begin the NLP :\n",
    "### 1. cleaning of the text\n",
    "### 2. tokenizing the text by keeping only the 'lemma' and removing all stop words\n",
    "\n",
    "### Note that the computation of the TF-IDF matriw will be done in the following notebook : 'Synopsis-distance'."
   ]
  },
  {
   "cell_type": "code",
   "execution_count": 9,
   "metadata": {},
   "outputs": [
    {
     "name": "stdout",
     "output_type": "stream",
     "text": [
      "\u001b[38;5;2m✔ Download and installation successful\u001b[0m\n",
      "You can now load the package via spacy.load('en_core_web_sm')\n"
     ]
    }
   ],
   "source": [
    "# Download of spacy model for processing english.\n",
    "!python -m spacy download en_core_web_sm -q"
   ]
  },
  {
   "cell_type": "code",
   "execution_count": 10,
   "metadata": {},
   "outputs": [],
   "source": [
    "import en_core_web_sm\n",
    "from spacy.lang.en.stop_words import STOP_WORDS\n",
    "\n",
    "nlp = en_core_web_sm.load()"
   ]
  },
  {
   "cell_type": "code",
   "execution_count": 11,
   "metadata": {},
   "outputs": [],
   "source": [
    "imdb['description'] = imdb['description'].fillna(\"\")"
   ]
  },
  {
   "cell_type": "code",
   "execution_count": 12,
   "metadata": {},
   "outputs": [
    {
     "name": "stdout",
     "output_type": "stream",
     "text": [
      "<class 'pandas.core.frame.DataFrame'>\n",
      "RangeIndex: 85854 entries, 0 to 85853\n",
      "Data columns (total 11 columns):\n",
      " #   Column       Non-Null Count  Dtype  \n",
      "---  ------       --------------  -----  \n",
      " 0   imdbId       85854 non-null  int64  \n",
      " 1   title        85854 non-null  object \n",
      " 2   year         85854 non-null  object \n",
      " 3   genre        85854 non-null  object \n",
      " 4   duration     85854 non-null  int64  \n",
      " 5   country      85790 non-null  object \n",
      " 6   director     85767 non-null  object \n",
      " 7   writer       84282 non-null  object \n",
      " 8   actors       85785 non-null  object \n",
      " 9   description  85854 non-null  object \n",
      " 10  avg_vote     85854 non-null  float64\n",
      "dtypes: float64(1), int64(2), object(8)\n",
      "memory usage: 7.2+ MB\n"
     ]
    }
   ],
   "source": [
    "imdb.info()"
   ]
  },
  {
   "cell_type": "code",
   "execution_count": 13,
   "metadata": {},
   "outputs": [],
   "source": [
    "imdb['clean_description'] = imdb['description'].apply(lambda x: re.sub('[!\\\"#$%&()*+,-./:;<=>?@\\[\\]^_`{|}\\\\\\]',\" \",x))\n",
    "imdb['clean_description'] = imdb['clean_description'].apply(lambda x: re.sub(\"\\s+\",\" \",x))\n",
    "imdb['clean_description'] = imdb['clean_description'].apply(lambda x: x.lower().strip())"
   ]
  },
  {
   "cell_type": "code",
   "execution_count": 14,
   "metadata": {},
   "outputs": [
    {
     "data": {
      "text/plain": [
       "'a wwi english officer is inspired the night before a dangerous mission by a vision of joan of arc whose story he relives'"
      ]
     },
     "execution_count": 14,
     "metadata": {},
     "output_type": "execute_result"
    }
   ],
   "source": [
    "# Random check of the cleaning impacts.\n",
    "imdb['clean_description'][95]"
   ]
  },
  {
   "cell_type": "code",
   "execution_count": 15,
   "metadata": {},
   "outputs": [],
   "source": [
    "tokenized_description = imdb['clean_description'].apply(lambda x: nlp(x))"
   ]
  },
  {
   "cell_type": "code",
   "execution_count": 16,
   "metadata": {},
   "outputs": [
    {
     "data": {
      "text/plain": [
       "0        (the, adventures, of, a, female, reporter, in,...\n",
       "1        (true, story, of, notorious, australian, outla...\n",
       "2        (two, men, of, high, rank, are, both, wooing, ...\n",
       "3        (the, fabled, queen, of, egypt, 's, affair, wi...\n",
       "4        (loosely, adapted, from, dante, 's, divine, co...\n",
       "                               ...                        \n",
       "85849    (a, psychiatric, hospital, patient, pretends, ...\n",
       "85850    (a, middle, aged, veterinary, surgeon, believe...\n",
       "85851                                                   ()\n",
       "85852                                                   ()\n",
       "85853    (pep, a, 13, year, old, boy, is, in, love, wit...\n",
       "Name: clean_description, Length: 85854, dtype: object"
      ]
     },
     "execution_count": 16,
     "metadata": {},
     "output_type": "execute_result"
    }
   ],
   "source": [
    "tokenized_description"
   ]
  },
  {
   "cell_type": "code",
   "execution_count": 18,
   "metadata": {},
   "outputs": [
    {
     "data": {
      "text/plain": [
       "0                     [adventure, female, reporter, 1890s]\n",
       "1        [true, story, notorious, australian, outlaw, n...\n",
       "2        [man, high, rank, woo, beautiful, famous, eque...\n",
       "3        [fabled, queen, egypt, affair, roman, general,...\n",
       "4        [loosely, adapt, dante, divine, comedy, inspir...\n",
       "                               ...                        \n",
       "85849    [psychiatric, hospital, patient, pretend, craz...\n",
       "85850    [middle, aged, veterinary, surgeon, believe, w...\n",
       "85851                                                   []\n",
       "85852                                                   []\n",
       "85853    [pep, 13, year, old, boy, love, girl, grandpar...\n",
       "Name: clean_description, Length: 85854, dtype: object"
      ]
     },
     "execution_count": 18,
     "metadata": {},
     "output_type": "execute_result"
    }
   ],
   "source": [
    "tokenized_description = tokenized_description.apply(lambda x: [token.lemma_ for token in x if (token.text not in STOP_WORDS) & (token.lemma_ not in STOP_WORDS)])\n",
    "tokenized_description"
   ]
  },
  {
   "cell_type": "code",
   "execution_count": 19,
   "metadata": {},
   "outputs": [],
   "source": [
    "imdb['clean_token_description'] = [\" \".join(x) for x in tokenized_description]"
   ]
  },
  {
   "cell_type": "code",
   "execution_count": 21,
   "metadata": {},
   "outputs": [],
   "source": [
    "imdb_export = imdb[['imdbId', 'clean_token_description']]"
   ]
  },
  {
   "cell_type": "code",
   "execution_count": 24,
   "metadata": {},
   "outputs": [],
   "source": [
    "imdb_export.to_csv('clean_token_description.csv', index=False)"
   ]
  },
  {
   "cell_type": "markdown",
   "metadata": {},
   "source": [
    "### Now the TF-IDF will be computed in the 'Synopsis_distance' notebook."
   ]
  }
 ],
 "metadata": {
  "kernelspec": {
   "display_name": "Python 3",
   "language": "python",
   "name": "python3"
  },
  "language_info": {
   "codemirror_mode": {
    "name": "ipython",
    "version": 3
   },
   "file_extension": ".py",
   "mimetype": "text/x-python",
   "name": "python",
   "nbconvert_exporter": "python",
   "pygments_lexer": "ipython3",
   "version": "3.8.5"
  }
 },
 "nbformat": 4,
 "nbformat_minor": 4
}

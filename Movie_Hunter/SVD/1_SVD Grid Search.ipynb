{
 "cells": [
  {
   "cell_type": "markdown",
   "metadata": {},
   "source": [
    "### This notebook contains the grid search performed on SVD in order to determinate the most relevant movie embedding (in the context of collaborative filtering) :\n",
    "\n",
    "### 1. Importation of librairies\n",
    "### 2. Import and process data\n",
    "### 3. Grid search on SVD\n",
    "### 4. Export relevant data to perform implementation of the model in app"
   ]
  },
  {
   "cell_type": "markdown",
   "metadata": {},
   "source": [
    "## 1. Importation of useful librairies"
   ]
  },
  {
   "cell_type": "code",
   "execution_count": 89,
   "metadata": {},
   "outputs": [],
   "source": [
    "import pandas as pd\n",
    "import numpy as np\n",
    "import csv\n",
    "import seaborn as sns\n",
    "import random\n",
    "import pickle\n",
    "\n",
    "from scipy.sparse import csr_matrix\n",
    "from sklearn.metrics import mean_squared_error, mean_absolute_error\n",
    "from sklearn.decomposition import TruncatedSVD, NMF"
   ]
  },
  {
   "cell_type": "markdown",
   "metadata": {},
   "source": [
    "## 2. Retrieve data and preprocess it"
   ]
  },
  {
   "cell_type": "markdown",
   "metadata": {},
   "source": [
    "### a. Let's retrieve our dataset"
   ]
  },
  {
   "cell_type": "code",
   "execution_count": 52,
   "metadata": {},
   "outputs": [
    {
     "name": "stdout",
     "output_type": "stream",
     "text": [
      "<class 'pandas.core.frame.DataFrame'>\n",
      "RangeIndex: 27753444 entries, 0 to 27753443\n",
      "Data columns (total 3 columns):\n",
      " #   Column   Dtype  \n",
      "---  ------   -----  \n",
      " 0   userId   int64  \n",
      " 1   movieId  int64  \n",
      " 2   rating   float64\n",
      "dtypes: float64(1), int64(2)\n",
      "memory usage: 635.2 MB\n"
     ]
    }
   ],
   "source": [
    "# data contains ratings of movies by users (over 27 M ratings)\n",
    "data = pd.read_csv('data/MovieLens/ml-latest/ratings.csv', usecols=['userId','movieId','rating'])\n",
    "data = data.dropna().reset_index(drop=True)\n",
    "data.info()"
   ]
  },
  {
   "cell_type": "code",
   "execution_count": 53,
   "metadata": {},
   "outputs": [
    {
     "name": "stdout",
     "output_type": "stream",
     "text": [
      "the dataset contains 53,889 movies rated by 283,228 users.\n"
     ]
    }
   ],
   "source": [
    "print('the dataset contains {:,} movies rated by {:,} users.'.format(\n",
    "    len(data['movieId'].unique()),len(data['userId'].unique())))"
   ]
  },
  {
   "cell_type": "code",
   "execution_count": 54,
   "metadata": {},
   "outputs": [
    {
     "data": {
      "text/html": [
       "<div>\n",
       "<style scoped>\n",
       "    .dataframe tbody tr th:only-of-type {\n",
       "        vertical-align: middle;\n",
       "    }\n",
       "\n",
       "    .dataframe tbody tr th {\n",
       "        vertical-align: top;\n",
       "    }\n",
       "\n",
       "    .dataframe thead th {\n",
       "        text-align: right;\n",
       "    }\n",
       "</style>\n",
       "<table border=\"1\" class=\"dataframe\">\n",
       "  <thead>\n",
       "    <tr style=\"text-align: right;\">\n",
       "      <th></th>\n",
       "      <th>userId</th>\n",
       "      <th>movieId</th>\n",
       "      <th>rating</th>\n",
       "    </tr>\n",
       "  </thead>\n",
       "  <tbody>\n",
       "    <tr>\n",
       "      <th>0</th>\n",
       "      <td>1</td>\n",
       "      <td>307</td>\n",
       "      <td>3.5</td>\n",
       "    </tr>\n",
       "    <tr>\n",
       "      <th>1</th>\n",
       "      <td>1</td>\n",
       "      <td>481</td>\n",
       "      <td>3.5</td>\n",
       "    </tr>\n",
       "    <tr>\n",
       "      <th>2</th>\n",
       "      <td>1</td>\n",
       "      <td>1091</td>\n",
       "      <td>1.5</td>\n",
       "    </tr>\n",
       "    <tr>\n",
       "      <th>3</th>\n",
       "      <td>1</td>\n",
       "      <td>1257</td>\n",
       "      <td>4.5</td>\n",
       "    </tr>\n",
       "    <tr>\n",
       "      <th>4</th>\n",
       "      <td>1</td>\n",
       "      <td>1449</td>\n",
       "      <td>4.5</td>\n",
       "    </tr>\n",
       "  </tbody>\n",
       "</table>\n",
       "</div>"
      ],
      "text/plain": [
       "   userId  movieId  rating\n",
       "0       1      307     3.5\n",
       "1       1      481     3.5\n",
       "2       1     1091     1.5\n",
       "3       1     1257     4.5\n",
       "4       1     1449     4.5"
      ]
     },
     "execution_count": 54,
     "metadata": {},
     "output_type": "execute_result"
    }
   ],
   "source": [
    "data.head()"
   ]
  },
  {
   "cell_type": "markdown",
   "metadata": {},
   "source": [
    "### b. Filter data according to the number of ratings per movie and per user."
   ]
  },
  {
   "cell_type": "code",
   "execution_count": 55,
   "metadata": {},
   "outputs": [
    {
     "data": {
      "text/html": [
       "<div>\n",
       "<style scoped>\n",
       "    .dataframe tbody tr th:only-of-type {\n",
       "        vertical-align: middle;\n",
       "    }\n",
       "\n",
       "    .dataframe tbody tr th {\n",
       "        vertical-align: top;\n",
       "    }\n",
       "\n",
       "    .dataframe thead th {\n",
       "        text-align: right;\n",
       "    }\n",
       "</style>\n",
       "<table border=\"1\" class=\"dataframe\">\n",
       "  <thead>\n",
       "    <tr style=\"text-align: right;\">\n",
       "      <th></th>\n",
       "      <th>movieId</th>\n",
       "      <th>number_of_ratings_per_movie</th>\n",
       "    </tr>\n",
       "  </thead>\n",
       "  <tbody>\n",
       "    <tr>\n",
       "      <th>0</th>\n",
       "      <td>1</td>\n",
       "      <td>68469</td>\n",
       "    </tr>\n",
       "    <tr>\n",
       "      <th>1</th>\n",
       "      <td>2</td>\n",
       "      <td>27143</td>\n",
       "    </tr>\n",
       "    <tr>\n",
       "      <th>2</th>\n",
       "      <td>3</td>\n",
       "      <td>15585</td>\n",
       "    </tr>\n",
       "    <tr>\n",
       "      <th>3</th>\n",
       "      <td>4</td>\n",
       "      <td>2989</td>\n",
       "    </tr>\n",
       "    <tr>\n",
       "      <th>4</th>\n",
       "      <td>5</td>\n",
       "      <td>15474</td>\n",
       "    </tr>\n",
       "  </tbody>\n",
       "</table>\n",
       "</div>"
      ],
      "text/plain": [
       "   movieId  number_of_ratings_per_movie\n",
       "0        1                        68469\n",
       "1        2                        27143\n",
       "2        3                        15585\n",
       "3        4                         2989\n",
       "4        5                        15474"
      ]
     },
     "execution_count": 55,
     "metadata": {},
     "output_type": "execute_result"
    }
   ],
   "source": [
    "# Count ratings per movie\n",
    "count_ratings_per_movie = data[['movieId','rating']].groupby('movieId').count().reset_index(drop=False).\\\n",
    "                                                    rename(columns={'rating':'number_of_ratings_per_movie'})\n",
    "count_ratings_per_movie.head()"
   ]
  },
  {
   "cell_type": "code",
   "execution_count": 56,
   "metadata": {},
   "outputs": [
    {
     "data": {
      "text/html": [
       "<div>\n",
       "<style scoped>\n",
       "    .dataframe tbody tr th:only-of-type {\n",
       "        vertical-align: middle;\n",
       "    }\n",
       "\n",
       "    .dataframe tbody tr th {\n",
       "        vertical-align: top;\n",
       "    }\n",
       "\n",
       "    .dataframe thead th {\n",
       "        text-align: right;\n",
       "    }\n",
       "</style>\n",
       "<table border=\"1\" class=\"dataframe\">\n",
       "  <thead>\n",
       "    <tr style=\"text-align: right;\">\n",
       "      <th></th>\n",
       "      <th>userId</th>\n",
       "      <th>number_of_ratings_per_user</th>\n",
       "    </tr>\n",
       "  </thead>\n",
       "  <tbody>\n",
       "    <tr>\n",
       "      <th>0</th>\n",
       "      <td>1</td>\n",
       "      <td>16</td>\n",
       "    </tr>\n",
       "    <tr>\n",
       "      <th>1</th>\n",
       "      <td>2</td>\n",
       "      <td>15</td>\n",
       "    </tr>\n",
       "    <tr>\n",
       "      <th>2</th>\n",
       "      <td>3</td>\n",
       "      <td>11</td>\n",
       "    </tr>\n",
       "    <tr>\n",
       "      <th>3</th>\n",
       "      <td>4</td>\n",
       "      <td>736</td>\n",
       "    </tr>\n",
       "    <tr>\n",
       "      <th>4</th>\n",
       "      <td>5</td>\n",
       "      <td>72</td>\n",
       "    </tr>\n",
       "  </tbody>\n",
       "</table>\n",
       "</div>"
      ],
      "text/plain": [
       "   userId  number_of_ratings_per_user\n",
       "0       1                          16\n",
       "1       2                          15\n",
       "2       3                          11\n",
       "3       4                         736\n",
       "4       5                          72"
      ]
     },
     "execution_count": 56,
     "metadata": {},
     "output_type": "execute_result"
    }
   ],
   "source": [
    "# Count ratings per movie\n",
    "count_ratings_per_user = data[['userId','rating']].groupby('userId').count().reset_index(drop=False).\\\n",
    "                                                    rename(columns={'rating':'number_of_ratings_per_user'})\n",
    "count_ratings_per_user.head()"
   ]
  },
  {
   "cell_type": "code",
   "execution_count": 57,
   "metadata": {},
   "outputs": [
    {
     "data": {
      "text/html": [
       "<div>\n",
       "<style scoped>\n",
       "    .dataframe tbody tr th:only-of-type {\n",
       "        vertical-align: middle;\n",
       "    }\n",
       "\n",
       "    .dataframe tbody tr th {\n",
       "        vertical-align: top;\n",
       "    }\n",
       "\n",
       "    .dataframe thead th {\n",
       "        text-align: right;\n",
       "    }\n",
       "</style>\n",
       "<table border=\"1\" class=\"dataframe\">\n",
       "  <thead>\n",
       "    <tr style=\"text-align: right;\">\n",
       "      <th></th>\n",
       "      <th>userId</th>\n",
       "      <th>movieId</th>\n",
       "      <th>rating</th>\n",
       "      <th>number_of_ratings_per_movie</th>\n",
       "      <th>number_of_ratings_per_user</th>\n",
       "    </tr>\n",
       "  </thead>\n",
       "  <tbody>\n",
       "    <tr>\n",
       "      <th>0</th>\n",
       "      <td>1</td>\n",
       "      <td>307</td>\n",
       "      <td>3.5</td>\n",
       "      <td>7958</td>\n",
       "      <td>16</td>\n",
       "    </tr>\n",
       "    <tr>\n",
       "      <th>1</th>\n",
       "      <td>1</td>\n",
       "      <td>481</td>\n",
       "      <td>3.5</td>\n",
       "      <td>6037</td>\n",
       "      <td>16</td>\n",
       "    </tr>\n",
       "    <tr>\n",
       "      <th>2</th>\n",
       "      <td>1</td>\n",
       "      <td>1091</td>\n",
       "      <td>1.5</td>\n",
       "      <td>6138</td>\n",
       "      <td>16</td>\n",
       "    </tr>\n",
       "    <tr>\n",
       "      <th>3</th>\n",
       "      <td>1</td>\n",
       "      <td>1257</td>\n",
       "      <td>4.5</td>\n",
       "      <td>5902</td>\n",
       "      <td>16</td>\n",
       "    </tr>\n",
       "    <tr>\n",
       "      <th>4</th>\n",
       "      <td>1</td>\n",
       "      <td>1449</td>\n",
       "      <td>4.5</td>\n",
       "      <td>6867</td>\n",
       "      <td>16</td>\n",
       "    </tr>\n",
       "  </tbody>\n",
       "</table>\n",
       "</div>"
      ],
      "text/plain": [
       "   userId  movieId  rating  number_of_ratings_per_movie  \\\n",
       "0       1      307     3.5                         7958   \n",
       "1       1      481     3.5                         6037   \n",
       "2       1     1091     1.5                         6138   \n",
       "3       1     1257     4.5                         5902   \n",
       "4       1     1449     4.5                         6867   \n",
       "\n",
       "   number_of_ratings_per_user  \n",
       "0                          16  \n",
       "1                          16  \n",
       "2                          16  \n",
       "3                          16  \n",
       "4                          16  "
      ]
     },
     "execution_count": 57,
     "metadata": {},
     "output_type": "execute_result"
    }
   ],
   "source": [
    "data = pd.merge(data, count_ratings_per_movie, on='movieId')\n",
    "data = pd.merge(data, count_ratings_per_user, on='userId')\n",
    "data.head()"
   ]
  },
  {
   "cell_type": "code",
   "execution_count": 58,
   "metadata": {},
   "outputs": [],
   "source": [
    "# Sparse data is a major issue for matrix factorization. Thus, we decide to keep only movies and users\n",
    "# with over 1,000 ratings."
   ]
  },
  {
   "cell_type": "code",
   "execution_count": 59,
   "metadata": {},
   "outputs": [
    {
     "data": {
      "text/html": [
       "<div>\n",
       "<style scoped>\n",
       "    .dataframe tbody tr th:only-of-type {\n",
       "        vertical-align: middle;\n",
       "    }\n",
       "\n",
       "    .dataframe tbody tr th {\n",
       "        vertical-align: top;\n",
       "    }\n",
       "\n",
       "    .dataframe thead th {\n",
       "        text-align: right;\n",
       "    }\n",
       "</style>\n",
       "<table border=\"1\" class=\"dataframe\">\n",
       "  <thead>\n",
       "    <tr style=\"text-align: right;\">\n",
       "      <th></th>\n",
       "      <th>userId</th>\n",
       "      <th>movieId</th>\n",
       "      <th>rating</th>\n",
       "    </tr>\n",
       "  </thead>\n",
       "  <tbody>\n",
       "    <tr>\n",
       "      <th>0</th>\n",
       "      <td>214</td>\n",
       "      <td>307</td>\n",
       "      <td>4.0</td>\n",
       "    </tr>\n",
       "    <tr>\n",
       "      <th>1</th>\n",
       "      <td>214</td>\n",
       "      <td>481</td>\n",
       "      <td>3.0</td>\n",
       "    </tr>\n",
       "    <tr>\n",
       "      <th>2</th>\n",
       "      <td>214</td>\n",
       "      <td>1590</td>\n",
       "      <td>3.0</td>\n",
       "    </tr>\n",
       "    <tr>\n",
       "      <th>3</th>\n",
       "      <td>214</td>\n",
       "      <td>2986</td>\n",
       "      <td>2.0</td>\n",
       "    </tr>\n",
       "    <tr>\n",
       "      <th>4</th>\n",
       "      <td>214</td>\n",
       "      <td>3020</td>\n",
       "      <td>4.0</td>\n",
       "    </tr>\n",
       "  </tbody>\n",
       "</table>\n",
       "</div>"
      ],
      "text/plain": [
       "   userId  movieId  rating\n",
       "0     214      307     4.0\n",
       "1     214      481     3.0\n",
       "2     214     1590     3.0\n",
       "3     214     2986     2.0\n",
       "4     214     3020     4.0"
      ]
     },
     "execution_count": 59,
     "metadata": {},
     "output_type": "execute_result"
    }
   ],
   "source": [
    "data_1000 = data[(data['number_of_ratings_per_user'] >= 1000) & (data['number_of_ratings_per_movie'] >= 1000)]\n",
    "data_1000 = data_1000.dropna().reset_index(drop=True).drop(['number_of_ratings_per_movie','number_of_ratings_per_user'],axis=1)\n",
    "data_1000.head()"
   ]
  },
  {
   "cell_type": "markdown",
   "metadata": {},
   "source": [
    "### c. Prepare data"
   ]
  },
  {
   "cell_type": "markdown",
   "metadata": {},
   "source": [
    "#### It's necessary to transform our data into sparse matrix. In order to avoid creating rows/columns with only zeros, we replace the actual user and movies ids by 'id_model' designed on purpose to go from 0 to the number of user/movies."
   ]
  },
  {
   "cell_type": "code",
   "execution_count": 60,
   "metadata": {},
   "outputs": [
    {
     "data": {
      "text/html": [
       "<div>\n",
       "<style scoped>\n",
       "    .dataframe tbody tr th:only-of-type {\n",
       "        vertical-align: middle;\n",
       "    }\n",
       "\n",
       "    .dataframe tbody tr th {\n",
       "        vertical-align: top;\n",
       "    }\n",
       "\n",
       "    .dataframe thead th {\n",
       "        text-align: right;\n",
       "    }\n",
       "</style>\n",
       "<table border=\"1\" class=\"dataframe\">\n",
       "  <thead>\n",
       "    <tr style=\"text-align: right;\">\n",
       "      <th></th>\n",
       "      <th>movieId_model</th>\n",
       "      <th>movieId</th>\n",
       "    </tr>\n",
       "  </thead>\n",
       "  <tbody>\n",
       "    <tr>\n",
       "      <th>0</th>\n",
       "      <td>0</td>\n",
       "      <td>307</td>\n",
       "    </tr>\n",
       "    <tr>\n",
       "      <th>1</th>\n",
       "      <td>1</td>\n",
       "      <td>481</td>\n",
       "    </tr>\n",
       "    <tr>\n",
       "      <th>2</th>\n",
       "      <td>2</td>\n",
       "      <td>1590</td>\n",
       "    </tr>\n",
       "    <tr>\n",
       "      <th>3</th>\n",
       "      <td>3</td>\n",
       "      <td>2986</td>\n",
       "    </tr>\n",
       "    <tr>\n",
       "      <th>4</th>\n",
       "      <td>4</td>\n",
       "      <td>3020</td>\n",
       "    </tr>\n",
       "  </tbody>\n",
       "</table>\n",
       "</div>"
      ],
      "text/plain": [
       "   movieId_model  movieId\n",
       "0              0      307\n",
       "1              1      481\n",
       "2              2     1590\n",
       "3              3     2986\n",
       "4              4     3020"
      ]
     },
     "execution_count": 60,
     "metadata": {},
     "output_type": "execute_result"
    }
   ],
   "source": [
    "movieId_model = pd.DataFrame(data_1000['movieId'].unique()).reset_index(drop=False)\n",
    "movieId_model = movieId_model.rename(columns={'index':'movieId_model',0:'movieId'})\n",
    "movieId_model.head()"
   ]
  },
  {
   "cell_type": "code",
   "execution_count": 61,
   "metadata": {},
   "outputs": [
    {
     "data": {
      "text/html": [
       "<div>\n",
       "<style scoped>\n",
       "    .dataframe tbody tr th:only-of-type {\n",
       "        vertical-align: middle;\n",
       "    }\n",
       "\n",
       "    .dataframe tbody tr th {\n",
       "        vertical-align: top;\n",
       "    }\n",
       "\n",
       "    .dataframe thead th {\n",
       "        text-align: right;\n",
       "    }\n",
       "</style>\n",
       "<table border=\"1\" class=\"dataframe\">\n",
       "  <thead>\n",
       "    <tr style=\"text-align: right;\">\n",
       "      <th></th>\n",
       "      <th>userId_model</th>\n",
       "      <th>userId</th>\n",
       "    </tr>\n",
       "  </thead>\n",
       "  <tbody>\n",
       "    <tr>\n",
       "      <th>0</th>\n",
       "      <td>0</td>\n",
       "      <td>214</td>\n",
       "    </tr>\n",
       "    <tr>\n",
       "      <th>1</th>\n",
       "      <td>1</td>\n",
       "      <td>239</td>\n",
       "    </tr>\n",
       "    <tr>\n",
       "      <th>2</th>\n",
       "      <td>2</td>\n",
       "      <td>719</td>\n",
       "    </tr>\n",
       "    <tr>\n",
       "      <th>3</th>\n",
       "      <td>3</td>\n",
       "      <td>1933</td>\n",
       "    </tr>\n",
       "    <tr>\n",
       "      <th>4</th>\n",
       "      <td>4</td>\n",
       "      <td>2025</td>\n",
       "    </tr>\n",
       "  </tbody>\n",
       "</table>\n",
       "</div>"
      ],
      "text/plain": [
       "   userId_model  userId\n",
       "0             0     214\n",
       "1             1     239\n",
       "2             2     719\n",
       "3             3    1933\n",
       "4             4    2025"
      ]
     },
     "execution_count": 61,
     "metadata": {},
     "output_type": "execute_result"
    }
   ],
   "source": [
    "userId_model = pd.DataFrame(data_1000['userId'].unique()).reset_index(drop=False)\n",
    "userId_model = userId_model.rename(columns={'index':'userId_model',0:'userId'})\n",
    "userId_model.head()"
   ]
  },
  {
   "cell_type": "code",
   "execution_count": 62,
   "metadata": {},
   "outputs": [
    {
     "data": {
      "text/html": [
       "<div>\n",
       "<style scoped>\n",
       "    .dataframe tbody tr th:only-of-type {\n",
       "        vertical-align: middle;\n",
       "    }\n",
       "\n",
       "    .dataframe tbody tr th {\n",
       "        vertical-align: top;\n",
       "    }\n",
       "\n",
       "    .dataframe thead th {\n",
       "        text-align: right;\n",
       "    }\n",
       "</style>\n",
       "<table border=\"1\" class=\"dataframe\">\n",
       "  <thead>\n",
       "    <tr style=\"text-align: right;\">\n",
       "      <th></th>\n",
       "      <th>userId</th>\n",
       "      <th>movieId</th>\n",
       "      <th>rating</th>\n",
       "      <th>movieId_model</th>\n",
       "      <th>userId_model</th>\n",
       "    </tr>\n",
       "  </thead>\n",
       "  <tbody>\n",
       "    <tr>\n",
       "      <th>0</th>\n",
       "      <td>214</td>\n",
       "      <td>307</td>\n",
       "      <td>4.0</td>\n",
       "      <td>0</td>\n",
       "      <td>0</td>\n",
       "    </tr>\n",
       "    <tr>\n",
       "      <th>1</th>\n",
       "      <td>214</td>\n",
       "      <td>481</td>\n",
       "      <td>3.0</td>\n",
       "      <td>1</td>\n",
       "      <td>0</td>\n",
       "    </tr>\n",
       "    <tr>\n",
       "      <th>2</th>\n",
       "      <td>214</td>\n",
       "      <td>1590</td>\n",
       "      <td>3.0</td>\n",
       "      <td>2</td>\n",
       "      <td>0</td>\n",
       "    </tr>\n",
       "    <tr>\n",
       "      <th>3</th>\n",
       "      <td>214</td>\n",
       "      <td>2986</td>\n",
       "      <td>2.0</td>\n",
       "      <td>3</td>\n",
       "      <td>0</td>\n",
       "    </tr>\n",
       "    <tr>\n",
       "      <th>4</th>\n",
       "      <td>214</td>\n",
       "      <td>3020</td>\n",
       "      <td>4.0</td>\n",
       "      <td>4</td>\n",
       "      <td>0</td>\n",
       "    </tr>\n",
       "  </tbody>\n",
       "</table>\n",
       "</div>"
      ],
      "text/plain": [
       "   userId  movieId  rating  movieId_model  userId_model\n",
       "0     214      307     4.0              0             0\n",
       "1     214      481     3.0              1             0\n",
       "2     214     1590     3.0              2             0\n",
       "3     214     2986     2.0              3             0\n",
       "4     214     3020     4.0              4             0"
      ]
     },
     "execution_count": 62,
     "metadata": {},
     "output_type": "execute_result"
    }
   ],
   "source": [
    "data_1000 = pd.merge(data_1000, movieId_model, on='movieId')\n",
    "data_1000 = pd.merge(data_1000, userId_model, on='userId')\n",
    "data_1000.head()"
   ]
  },
  {
   "cell_type": "code",
   "execution_count": 63,
   "metadata": {},
   "outputs": [
    {
     "name": "stdout",
     "output_type": "stream",
     "text": [
      "For information, the matrix is meant to contain 2,782 rows (sample or user) and 3,931 columns (item or movies) with 29% of filled data.\n"
     ]
    }
   ],
   "source": [
    "total_users = len(data_1000['userId_model'].unique())\n",
    "total_movies =  len(data_1000['movieId_model'].unique())\n",
    "\n",
    "print('For information, the matrix is meant to contain {:,} rows (sample or user) \\\n",
    "and {:,} columns (item or movies) with {:.0%} of filled data.'.\\\n",
    "      format(total_users,\n",
    "             total_movies,\n",
    "             data_1000.shape[0]/(total_users*total_movies)))"
   ]
  },
  {
   "cell_type": "markdown",
   "metadata": {},
   "source": [
    "### d. Create train and test datasets"
   ]
  },
  {
   "cell_type": "code",
   "execution_count": 64,
   "metadata": {},
   "outputs": [],
   "source": [
    "all_user_id = data_1000['userId_model'].unique()\n",
    "random.shuffle(all_user_id)"
   ]
  },
  {
   "cell_type": "code",
   "execution_count": 65,
   "metadata": {},
   "outputs": [],
   "source": [
    "train_size = int(0.80 * len(all_user_id))\n",
    "train_user_id = all_user_id[:train_size]\n",
    "test_user_id = list(set(all_user_id) - set(train_user_id))"
   ]
  },
  {
   "cell_type": "code",
   "execution_count": 66,
   "metadata": {},
   "outputs": [],
   "source": [
    "data_train = pd.merge(pd.DataFrame(train_user_id, columns=['userId_model']),\n",
    "                      data_1000,\n",
    "                      on='userId_model')\n",
    "\n",
    "data_test = pd.merge(pd.DataFrame(test_user_id, columns=['userId_model']),\n",
    "                      data_1000,\n",
    "                      on='userId_model')"
   ]
  },
  {
   "cell_type": "code",
   "execution_count": 67,
   "metadata": {},
   "outputs": [],
   "source": [
    "# We center the ratings based only on train data"
   ]
  },
  {
   "cell_type": "code",
   "execution_count": 68,
   "metadata": {},
   "outputs": [
    {
     "data": {
      "text/html": [
       "<div>\n",
       "<style scoped>\n",
       "    .dataframe tbody tr th:only-of-type {\n",
       "        vertical-align: middle;\n",
       "    }\n",
       "\n",
       "    .dataframe tbody tr th {\n",
       "        vertical-align: top;\n",
       "    }\n",
       "\n",
       "    .dataframe thead th {\n",
       "        text-align: right;\n",
       "    }\n",
       "</style>\n",
       "<table border=\"1\" class=\"dataframe\">\n",
       "  <thead>\n",
       "    <tr style=\"text-align: right;\">\n",
       "      <th></th>\n",
       "      <th>userId_model</th>\n",
       "      <th>userId</th>\n",
       "      <th>avg_rating</th>\n",
       "      <th>movieId_model</th>\n",
       "    </tr>\n",
       "    <tr>\n",
       "      <th>movieId</th>\n",
       "      <th></th>\n",
       "      <th></th>\n",
       "      <th></th>\n",
       "      <th></th>\n",
       "    </tr>\n",
       "  </thead>\n",
       "  <tbody>\n",
       "    <tr>\n",
       "      <th>1</th>\n",
       "      <td>1383.427011</td>\n",
       "      <td>140543.249752</td>\n",
       "      <td>3.851539</td>\n",
       "      <td>16.0</td>\n",
       "    </tr>\n",
       "    <tr>\n",
       "      <th>2</th>\n",
       "      <td>1436.149631</td>\n",
       "      <td>141704.094212</td>\n",
       "      <td>3.005234</td>\n",
       "      <td>1204.0</td>\n",
       "    </tr>\n",
       "    <tr>\n",
       "      <th>3</th>\n",
       "      <td>1247.844981</td>\n",
       "      <td>140747.238882</td>\n",
       "      <td>2.786531</td>\n",
       "      <td>418.0</td>\n",
       "    </tr>\n",
       "    <tr>\n",
       "      <th>4</th>\n",
       "      <td>1049.876448</td>\n",
       "      <td>139664.602317</td>\n",
       "      <td>2.453668</td>\n",
       "      <td>3658.0</td>\n",
       "    </tr>\n",
       "    <tr>\n",
       "      <th>5</th>\n",
       "      <td>1319.157830</td>\n",
       "      <td>138003.080148</td>\n",
       "      <td>2.568434</td>\n",
       "      <td>2556.0</td>\n",
       "    </tr>\n",
       "  </tbody>\n",
       "</table>\n",
       "</div>"
      ],
      "text/plain": [
       "         userId_model         userId  avg_rating  movieId_model\n",
       "movieId                                                        \n",
       "1         1383.427011  140543.249752    3.851539           16.0\n",
       "2         1436.149631  141704.094212    3.005234         1204.0\n",
       "3         1247.844981  140747.238882    2.786531          418.0\n",
       "4         1049.876448  139664.602317    2.453668         3658.0\n",
       "5         1319.157830  138003.080148    2.568434         2556.0"
      ]
     },
     "execution_count": 68,
     "metadata": {},
     "output_type": "execute_result"
    }
   ],
   "source": [
    "avg_movie_rating = data_train.copy()\n",
    "avg_movie_rating = avg_movie_rating.groupby('movieId').mean()\n",
    "avg_movie_rating = avg_movie_rating.rename(columns={'rating':'avg_rating'})\n",
    "avg_movie_rating.head()"
   ]
  },
  {
   "cell_type": "code",
   "execution_count": 69,
   "metadata": {},
   "outputs": [
    {
     "data": {
      "text/html": [
       "<div>\n",
       "<style scoped>\n",
       "    .dataframe tbody tr th:only-of-type {\n",
       "        vertical-align: middle;\n",
       "    }\n",
       "\n",
       "    .dataframe tbody tr th {\n",
       "        vertical-align: top;\n",
       "    }\n",
       "\n",
       "    .dataframe thead th {\n",
       "        text-align: right;\n",
       "    }\n",
       "</style>\n",
       "<table border=\"1\" class=\"dataframe\">\n",
       "  <thead>\n",
       "    <tr style=\"text-align: right;\">\n",
       "      <th></th>\n",
       "      <th>userId_model</th>\n",
       "      <th>userId</th>\n",
       "      <th>movieId</th>\n",
       "      <th>rating</th>\n",
       "      <th>movieId_model</th>\n",
       "      <th>avg_rating</th>\n",
       "      <th>rating_for_svd</th>\n",
       "    </tr>\n",
       "  </thead>\n",
       "  <tbody>\n",
       "    <tr>\n",
       "      <th>0</th>\n",
       "      <td>702</td>\n",
       "      <td>256243</td>\n",
       "      <td>307</td>\n",
       "      <td>4.0</td>\n",
       "      <td>0</td>\n",
       "      <td>3.835200</td>\n",
       "      <td>0.164800</td>\n",
       "    </tr>\n",
       "    <tr>\n",
       "      <th>1</th>\n",
       "      <td>702</td>\n",
       "      <td>256243</td>\n",
       "      <td>2986</td>\n",
       "      <td>2.0</td>\n",
       "      <td>3</td>\n",
       "      <td>2.394220</td>\n",
       "      <td>-0.394220</td>\n",
       "    </tr>\n",
       "    <tr>\n",
       "      <th>2</th>\n",
       "      <td>702</td>\n",
       "      <td>256243</td>\n",
       "      <td>2746</td>\n",
       "      <td>3.5</td>\n",
       "      <td>12</td>\n",
       "      <td>3.243860</td>\n",
       "      <td>0.256140</td>\n",
       "    </tr>\n",
       "    <tr>\n",
       "      <th>3</th>\n",
       "      <td>702</td>\n",
       "      <td>256243</td>\n",
       "      <td>1221</td>\n",
       "      <td>4.5</td>\n",
       "      <td>13</td>\n",
       "      <td>4.228717</td>\n",
       "      <td>0.271283</td>\n",
       "    </tr>\n",
       "    <tr>\n",
       "      <th>4</th>\n",
       "      <td>702</td>\n",
       "      <td>256243</td>\n",
       "      <td>1645</td>\n",
       "      <td>4.0</td>\n",
       "      <td>14</td>\n",
       "      <td>3.324032</td>\n",
       "      <td>0.675968</td>\n",
       "    </tr>\n",
       "  </tbody>\n",
       "</table>\n",
       "</div>"
      ],
      "text/plain": [
       "   userId_model  userId  movieId  rating  movieId_model  avg_rating  \\\n",
       "0           702  256243      307     4.0              0    3.835200   \n",
       "1           702  256243     2986     2.0              3    2.394220   \n",
       "2           702  256243     2746     3.5             12    3.243860   \n",
       "3           702  256243     1221     4.5             13    4.228717   \n",
       "4           702  256243     1645     4.0             14    3.324032   \n",
       "\n",
       "   rating_for_svd  \n",
       "0        0.164800  \n",
       "1       -0.394220  \n",
       "2        0.256140  \n",
       "3        0.271283  \n",
       "4        0.675968  "
      ]
     },
     "execution_count": 69,
     "metadata": {},
     "output_type": "execute_result"
    }
   ],
   "source": [
    "data_train = pd.merge(data_train, avg_movie_rating[['avg_rating','movieId_model']], how='left', on='movieId_model')\n",
    "data_train['rating_for_svd'] = data_train['rating'] - data_train['avg_rating']\n",
    "data_train.head()"
   ]
  },
  {
   "cell_type": "code",
   "execution_count": 70,
   "metadata": {},
   "outputs": [],
   "source": [
    "# We now also remove the avg on the test dataset"
   ]
  },
  {
   "cell_type": "code",
   "execution_count": 71,
   "metadata": {},
   "outputs": [],
   "source": [
    "data_train_temp = data_train[['movieId_model','avg_rating']].drop_duplicates()"
   ]
  },
  {
   "cell_type": "code",
   "execution_count": 72,
   "metadata": {},
   "outputs": [],
   "source": [
    "data_test = pd.merge(data_test, data_train_temp, how='left', on='movieId_model')"
   ]
  },
  {
   "cell_type": "code",
   "execution_count": 73,
   "metadata": {},
   "outputs": [],
   "source": [
    "data_test['rating_for_svd'] = data_test['rating'] - data_test['avg_rating']"
   ]
  },
  {
   "cell_type": "code",
   "execution_count": 74,
   "metadata": {},
   "outputs": [
    {
     "data": {
      "text/html": [
       "<div>\n",
       "<style scoped>\n",
       "    .dataframe tbody tr th:only-of-type {\n",
       "        vertical-align: middle;\n",
       "    }\n",
       "\n",
       "    .dataframe tbody tr th {\n",
       "        vertical-align: top;\n",
       "    }\n",
       "\n",
       "    .dataframe thead th {\n",
       "        text-align: right;\n",
       "    }\n",
       "</style>\n",
       "<table border=\"1\" class=\"dataframe\">\n",
       "  <thead>\n",
       "    <tr style=\"text-align: right;\">\n",
       "      <th></th>\n",
       "      <th>userId_model</th>\n",
       "      <th>userId</th>\n",
       "      <th>movieId</th>\n",
       "      <th>rating</th>\n",
       "      <th>movieId_model</th>\n",
       "      <th>avg_rating</th>\n",
       "      <th>rating_for_svd</th>\n",
       "    </tr>\n",
       "  </thead>\n",
       "  <tbody>\n",
       "    <tr>\n",
       "      <th>0</th>\n",
       "      <td>0</td>\n",
       "      <td>214</td>\n",
       "      <td>307</td>\n",
       "      <td>4.0</td>\n",
       "      <td>0</td>\n",
       "      <td>3.835200</td>\n",
       "      <td>0.164800</td>\n",
       "    </tr>\n",
       "    <tr>\n",
       "      <th>1</th>\n",
       "      <td>0</td>\n",
       "      <td>214</td>\n",
       "      <td>481</td>\n",
       "      <td>3.0</td>\n",
       "      <td>1</td>\n",
       "      <td>3.210361</td>\n",
       "      <td>-0.210361</td>\n",
       "    </tr>\n",
       "    <tr>\n",
       "      <th>2</th>\n",
       "      <td>0</td>\n",
       "      <td>214</td>\n",
       "      <td>1590</td>\n",
       "      <td>3.0</td>\n",
       "      <td>2</td>\n",
       "      <td>2.827773</td>\n",
       "      <td>0.172227</td>\n",
       "    </tr>\n",
       "    <tr>\n",
       "      <th>3</th>\n",
       "      <td>0</td>\n",
       "      <td>214</td>\n",
       "      <td>2986</td>\n",
       "      <td>2.0</td>\n",
       "      <td>3</td>\n",
       "      <td>2.394220</td>\n",
       "      <td>-0.394220</td>\n",
       "    </tr>\n",
       "    <tr>\n",
       "      <th>4</th>\n",
       "      <td>0</td>\n",
       "      <td>214</td>\n",
       "      <td>3020</td>\n",
       "      <td>4.0</td>\n",
       "      <td>4</td>\n",
       "      <td>3.486577</td>\n",
       "      <td>0.513423</td>\n",
       "    </tr>\n",
       "  </tbody>\n",
       "</table>\n",
       "</div>"
      ],
      "text/plain": [
       "   userId_model  userId  movieId  rating  movieId_model  avg_rating  \\\n",
       "0             0     214      307     4.0              0    3.835200   \n",
       "1             0     214      481     3.0              1    3.210361   \n",
       "2             0     214     1590     3.0              2    2.827773   \n",
       "3             0     214     2986     2.0              3    2.394220   \n",
       "4             0     214     3020     4.0              4    3.486577   \n",
       "\n",
       "   rating_for_svd  \n",
       "0        0.164800  \n",
       "1       -0.210361  \n",
       "2        0.172227  \n",
       "3       -0.394220  \n",
       "4        0.513423  "
      ]
     },
     "execution_count": 74,
     "metadata": {},
     "output_type": "execute_result"
    }
   ],
   "source": [
    "data_test.head()"
   ]
  },
  {
   "cell_type": "code",
   "execution_count": 75,
   "metadata": {},
   "outputs": [
    {
     "name": "stdout",
     "output_type": "stream",
     "text": [
      "cols for a sparse data_train 2781\n",
      "cols for a sparse data_test 2777\n"
     ]
    }
   ],
   "source": [
    "# We need both dataset to have the same number of columns to be able to use the .transform of SVD/NMF.\n",
    "print('cols for a sparse data_train', np.max(data_train['userId_model']))\n",
    "print('cols for a sparse data_test', np.max(data_test['userId_model']))"
   ]
  },
  {
   "cell_type": "code",
   "execution_count": 76,
   "metadata": {},
   "outputs": [],
   "source": [
    "# kind of a hack : we add one line to data test for userId_model = 2781\n",
    "cols = data_test.columns\n",
    "data_test = data_test.append(pd.DataFrame([2781,0,0,0,0,0,0],index=cols).T, ignore_index=True)"
   ]
  },
  {
   "cell_type": "markdown",
   "metadata": {},
   "source": [
    "### e. Convert to sparse matrices"
   ]
  },
  {
   "cell_type": "code",
   "execution_count": 77,
   "metadata": {},
   "outputs": [
    {
     "data": {
      "text/plain": [
       "<2782x3931 sparse matrix of type '<class 'numpy.float64'>'\n",
       "\twith 2518616 stored elements in Compressed Sparse Row format>"
      ]
     },
     "execution_count": 77,
     "metadata": {},
     "output_type": "execute_result"
    }
   ],
   "source": [
    "data_train_csr = csr_matrix((data_train['rating_for_svd'],\n",
    "                             (data_train['userId_model'], data_train['movieId_model']))) # rows = samples (ie users) and cols = features (ie movies)\n",
    "data_train_csr"
   ]
  },
  {
   "cell_type": "code",
   "execution_count": 78,
   "metadata": {},
   "outputs": [
    {
     "data": {
      "text/plain": [
       "<2782x3931 sparse matrix of type '<class 'numpy.float64'>'\n",
       "\twith 643122 stored elements in Compressed Sparse Row format>"
      ]
     },
     "execution_count": 78,
     "metadata": {},
     "output_type": "execute_result"
    }
   ],
   "source": [
    "data_test_csr = csr_matrix((data_test['rating_for_svd'],\n",
    "                             (data_test['userId_model'], data_test['movieId_model']))) # rows = samples (ie users) and cols = features (ie movies)\n",
    "data_test_csr"
   ]
  },
  {
   "cell_type": "markdown",
   "metadata": {},
   "source": [
    "## 3. SVD grid search"
   ]
  },
  {
   "cell_type": "markdown",
   "metadata": {},
   "source": [
    "### This section is dedicated to the implementation of a SVD (Singular Value Decomposition) as a matrix decomposition method targeting the user/rates matrix for all movies.\n",
    "### The grid search is focused on the parameter which corresponds to the number of components kept for the truncated SVD (https://scikit-learn.org/stable/modules/generated/sklearn.decomposition.TruncatedSVD.html)"
   ]
  },
  {
   "cell_type": "markdown",
   "metadata": {},
   "source": [
    "### 3.1 Performing the grid search"
   ]
  },
  {
   "cell_type": "code",
   "execution_count": 79,
   "metadata": {},
   "outputs": [],
   "source": [
    "GS = {'param_n_components' : [5*i for i in range(1,201)],\n",
    "     'RMSE': [],'RMSE_train_baseline': [],'MAE_train': [],'MAE_train_baseline': [],\n",
    "      'RMSE_test':[], 'RMSE_test_baseline': [], 'MAE_test': [],'MAE_test_baseline': []}"
   ]
  },
  {
   "cell_type": "code",
   "execution_count": 80,
   "metadata": {},
   "outputs": [],
   "source": [
    "GS_to_csv = {'param_n_components' : [],\n",
    "     'RMSE_train': [],'RMSE_train_baseline': [],'MAE_train': [],'MAE_train_baseline': [],\n",
    "      'RMSE_test':[], 'RMSE_test_baseline': [], 'MAE_test': [],'MAE_test_baseline': []}"
   ]
  },
  {
   "cell_type": "code",
   "execution_count": 46,
   "metadata": {},
   "outputs": [],
   "source": [
    "pd.DataFrame(GS_to_csv).to_csv('SVD_grid_search_1000.csv')"
   ]
  },
  {
   "cell_type": "code",
   "execution_count": 30,
   "metadata": {},
   "outputs": [
    {
     "name": "stdout",
     "output_type": "stream",
     "text": [
      "\n",
      "##################################\n",
      "n_components:  1000\n",
      "RMSE_train : 0.22, RMSE_train_baseline : 0.91.\n",
      "MAE_train : 0.16, MAE_train_baseline : 0.71.\n",
      "RMSE_test : 0.54, RMSE_test_baseline : 0.91.\n",
      "MAE_test : 0.4, MAE_test_baseline : 0.71.\n",
      "CPU times: user 2min 59s, sys: 8.13 s, total: 3min 7s\n",
      "Wall time: 2min 14s\n"
     ]
    }
   ],
   "source": [
    "%%time\n",
    "# The 'for' loop is used to try different values of the number of components kept for the truncated SVD.\n",
    "# Note that the 'baseline model' is simply the averate rate given by the users to a movie.\n",
    "# We are using here two metrics : RMSE and MAE.\n",
    "# This interpretation of MAE is very straightforward (mean absolute error).\n",
    "# In comparison, RMSE penalizes stronger the errors > 1 and put less weight on error < 1.\n",
    "for n in [5*i for i in range(1,201)]:\n",
    "    GS_to_csv = {'param_n_components' : [],'RMSE_train': [],\n",
    "                 'RMSE_train_baseline': [],'MAE_train': [],\n",
    "                 'MAE_train_baseline': [],'RMSE_test':[], 'RMSE_test_baseline': [],\n",
    "                 'MAE_test': [],'MAE_test_baseline': []}\n",
    "    \n",
    "    GS_to_csv['param_n_components'].append(n)\n",
    "    \n",
    "    # Fiting of truncated SVD.\n",
    "    svd = TruncatedSVD(n_components=n, n_iter=10, random_state=0)\n",
    "    svd.fit(data_train_csr)\n",
    "    \n",
    "    # Computation of RMSE on train\n",
    "    train_predict_ratings = np.matmul(svd.transform(data_train_csr), svd.components_) # users/movies\n",
    "    train_predictions = []\n",
    "    for k in range(data_train.shape[0]):\n",
    "        i = data_train.iloc[k,0] # userId_model\n",
    "        j = data_train.iloc[k,4] # movieId_model\n",
    "        train_predictions.append(train_predict_ratings[i,j] + data_train.iloc[k,5]) #correction on avg\n",
    "    RMSE_train = np.sqrt(mean_squared_error(data_train['rating'], train_predictions))\n",
    "    RMSE_train_baseline = np.sqrt(mean_squared_error(data_train['rating'], data_train['avg_rating']))\n",
    "    MAE_train = mean_absolute_error(data_train['rating'], train_predictions)\n",
    "    MAE_train_baseline = mean_absolute_error(data_train['rating'], data_train['avg_rating'])\n",
    "    \n",
    "    GS_to_csv['RMSE_train'].append(RMSE_train)\n",
    "    GS_to_csv['RMSE_train_baseline'].append(RMSE_train_baseline)\n",
    "    GS_to_csv['MAE_train'].append(MAE_train)\n",
    "    GS_to_csv['MAE_train_baseline'].append(MAE_train_baseline)\n",
    "    \n",
    "    # Computation of RMSE on test\n",
    "    test_predict_ratings = np.matmul(svd.transform(data_test_csr), svd.components_) # users/movies\n",
    "    test_predictions = []\n",
    "    for k in range(data_test.shape[0]):\n",
    "        i = data_test.iloc[k,0] # userId_model\n",
    "        j = data_test.iloc[k,4] # movieId_model\n",
    "        test_predictions.append(test_predict_ratings[i,j] + data_test.iloc[k,5])\n",
    "    \n",
    "    RMSE_test = np.sqrt(mean_squared_error(data_test['rating'], test_predictions))\n",
    "    RMSE_test_baseline = np.sqrt(mean_squared_error(data_test['rating'], data_test['avg_rating']))\n",
    "    MAE_test = mean_absolute_error(data_test['rating'], test_predictions)\n",
    "    MAE_test_baseline = mean_absolute_error(data_test['rating'], data_test['avg_rating'])\n",
    "\n",
    "    GS_to_csv['RMSE_test'].append(RMSE_test)\n",
    "    GS_to_csv['RMSE_test_baseline'].append(RMSE_test_baseline)\n",
    "    GS_to_csv['MAE_test'].append(MAE_test)\n",
    "    GS_to_csv['MAE_test_baseline'].append(MAE_test_baseline)\n",
    "    \n",
    "    pd.DataFrame(GS_to_csv).to_csv('SVD_grid_search_1000.csv',  mode='a', header=False)\n",
    "    \n",
    "    print('\\n##################################')\n",
    "    print('n_components: ', n)\n",
    "    print('RMSE_train : {}, RMSE_train_baseline : {}.'.format(round(RMSE_train,2), round(RMSE_train_baseline,2)))\n",
    "    print('MAE_train : {}, MAE_train_baseline : {}.'.format(round(MAE_train,2), round(MAE_train_baseline,2)))\n",
    "    print('RMSE_test : {}, RMSE_test_baseline : {}.'.format(round(RMSE_test,2), round(RMSE_test_baseline,2)))\n",
    "    print('MAE_test : {}, MAE_test_baseline : {}.'.format(round(MAE_test,2), round(MAE_test_baseline,2)))\n"
   ]
  },
  {
   "cell_type": "markdown",
   "metadata": {},
   "source": [
    "### 3.2 Analysis of the results"
   ]
  },
  {
   "cell_type": "code",
   "execution_count": 33,
   "metadata": {},
   "outputs": [],
   "source": [
    "data_graph = pd.read_csv('models/SVD_grid_search_1000.csv', index_col=0)[:-1]"
   ]
  },
  {
   "cell_type": "code",
   "execution_count": 34,
   "metadata": {},
   "outputs": [],
   "source": [
    "data_RMSE = data_graph.drop(['MAE_train', 'MAE_train_baseline', 'MAE_test_baseline','MAE_test'], axis=1)\n",
    "data_MAE = data_graph.drop(['RMSE_train', 'RMSE_train_baseline', 'RMSE_test_baseline','RMSE_test'], axis=1)"
   ]
  },
  {
   "cell_type": "code",
   "execution_count": 35,
   "metadata": {},
   "outputs": [],
   "source": [
    "# Graph for RMSE\n",
    "# the columns names are going to be used automatically in the graph\n",
    "data_RMSE = data_RMSE.rename(columns={'RMSE_train': 'train', 'RMSE_train_baseline':'train baseline',\n",
    "                        'RMSE_test':'test', 'RMSE_test_baseline':'test baseline'})"
   ]
  },
  {
   "cell_type": "code",
   "execution_count": 36,
   "metadata": {},
   "outputs": [
    {
     "data": {
      "text/plain": [
       "[Text(0.5, 0, 'number of components (for truncated SVD)'),\n",
       " Text(0, 0.5, 'RMSE')]"
      ]
     },
     "execution_count": 36,
     "metadata": {},
     "output_type": "execute_result"
    },
    {
     "data": {
      "image/png": "[encoded data removed]",
      "text/plain": [
       "<Figure size 720x720 with 1 Axes>"
      ]
     },
     "metadata": {},
     "output_type": "display_data"
    }
   ],
   "source": [
    "sns.set_theme(style=\"darkgrid\")\n",
    "sns.set(rc={'figure.figsize':(10,10)})\n",
    "\n",
    "\n",
    "ax = sns.lineplot(x='param_n_components', y='value', hue='variable', \n",
    "                  data=pd.melt(data_RMSE, ['param_n_components']),\n",
    "                 )\n",
    "#ax.set(ylim=(0, 1))\n",
    "ax.set(xlabel=\"number of components (for truncated SVD)\", ylabel = \"RMSE\")\n",
    "#plt.legend(loc='center right')\n",
    "#plt.legend(bbox_to_anchor=(1.05, 1), loc=2, borderaxespad=0.);"
   ]
  },
  {
   "cell_type": "code",
   "execution_count": 37,
   "metadata": {},
   "outputs": [],
   "source": [
    "# Graph for MAE\n",
    "# the columns names are going to be used automatically in the graph\n",
    "data_MAE = data_MAE.rename(columns={'MAE_train': 'train', 'MAE_train_baseline':'train baseline',\n",
    "                        'MAE_test':'test', 'MAE_test_baseline':'test baseline'})"
   ]
  },
  {
   "cell_type": "code",
   "execution_count": 38,
   "metadata": {},
   "outputs": [
    {
     "data": {
      "image/png": "[encoded data removed]",
      "text/plain": [
       "<Figure size 576x576 with 1 Axes>"
      ]
     },
     "metadata": {},
     "output_type": "display_data"
    }
   ],
   "source": [
    "sns.set_theme(style=\"darkgrid\")\n",
    "sns.set(rc={'figure.figsize':(8,8)})\n",
    "\n",
    "\n",
    "ax = sns.lineplot(x='param_n_components', y='value', hue='variable', data=pd.melt(data_MAE, ['param_n_components']))\n",
    "#ax.set(ylim=(0, 1))\n",
    "ax.set(xlabel=\"number of components (truncated SVD)\", ylabel = \"MAE\");"
   ]
  },
  {
   "cell_type": "markdown",
   "metadata": {},
   "source": [
    "### Considering the results aboved, we decide to implement a truncated SVD with 200 components as it appears to be a balanced choice between :\n",
    "### - the mathematical performances (MAE on test of ~ 0.52)\n",
    "### - the concrete understanding of the embedding created thanks to the SVD : 200 dimensions to fully characterize a movie."
   ]
  },
  {
   "cell_type": "markdown",
   "metadata": {},
   "source": [
    "### 3.3 Save and export model"
   ]
  },
  {
   "cell_type": "code",
   "execution_count": 47,
   "metadata": {},
   "outputs": [],
   "source": [
    "# We are now going to train the model on the whole dataset and then export it thanks to pickle.\n",
    "# First step : prepare data by centering the rates on 0 as we did for the train and test datasets above\n",
    "# (\"fit and transorm\" on train and \"transform\" on test)."
   ]
  },
  {
   "cell_type": "code",
   "execution_count": 81,
   "metadata": {},
   "outputs": [
    {
     "data": {
      "text/html": [
       "<div>\n",
       "<style scoped>\n",
       "    .dataframe tbody tr th:only-of-type {\n",
       "        vertical-align: middle;\n",
       "    }\n",
       "\n",
       "    .dataframe tbody tr th {\n",
       "        vertical-align: top;\n",
       "    }\n",
       "\n",
       "    .dataframe thead th {\n",
       "        text-align: right;\n",
       "    }\n",
       "</style>\n",
       "<table border=\"1\" class=\"dataframe\">\n",
       "  <thead>\n",
       "    <tr style=\"text-align: right;\">\n",
       "      <th></th>\n",
       "      <th>userId</th>\n",
       "      <th>avg_rating</th>\n",
       "      <th>movieId_model</th>\n",
       "      <th>userId_model</th>\n",
       "    </tr>\n",
       "    <tr>\n",
       "      <th>movieId</th>\n",
       "      <th></th>\n",
       "      <th></th>\n",
       "      <th></th>\n",
       "      <th></th>\n",
       "    </tr>\n",
       "  </thead>\n",
       "  <tbody>\n",
       "    <tr>\n",
       "      <th>1</th>\n",
       "      <td>141035.786365</td>\n",
       "      <td>3.858700</td>\n",
       "      <td>16.0</td>\n",
       "      <td>1382.587396</td>\n",
       "    </tr>\n",
       "    <tr>\n",
       "      <th>2</th>\n",
       "      <td>142370.247544</td>\n",
       "      <td>3.008350</td>\n",
       "      <td>1204.0</td>\n",
       "      <td>1433.892436</td>\n",
       "    </tr>\n",
       "    <tr>\n",
       "      <th>3</th>\n",
       "      <td>142576.567134</td>\n",
       "      <td>2.782064</td>\n",
       "      <td>418.0</td>\n",
       "      <td>1255.414830</td>\n",
       "    </tr>\n",
       "    <tr>\n",
       "      <th>4</th>\n",
       "      <td>142348.684887</td>\n",
       "      <td>2.474277</td>\n",
       "      <td>3658.0</td>\n",
       "      <td>1074.209003</td>\n",
       "    </tr>\n",
       "    <tr>\n",
       "      <th>5</th>\n",
       "      <td>139646.251734</td>\n",
       "      <td>2.576809</td>\n",
       "      <td>2556.0</td>\n",
       "      <td>1328.385530</td>\n",
       "    </tr>\n",
       "  </tbody>\n",
       "</table>\n",
       "</div>"
      ],
      "text/plain": [
       "                userId  avg_rating  movieId_model  userId_model\n",
       "movieId                                                        \n",
       "1        141035.786365    3.858700           16.0   1382.587396\n",
       "2        142370.247544    3.008350         1204.0   1433.892436\n",
       "3        142576.567134    2.782064          418.0   1255.414830\n",
       "4        142348.684887    2.474277         3658.0   1074.209003\n",
       "5        139646.251734    2.576809         2556.0   1328.385530"
      ]
     },
     "execution_count": 81,
     "metadata": {},
     "output_type": "execute_result"
    }
   ],
   "source": [
    "avg_movie_rating_all_data = data_1000.copy()\n",
    "avg_movie_rating_all_data = avg_movie_rating_all_data.groupby('movieId').mean()\n",
    "avg_movie_rating_all_data = avg_movie_rating_all_data.rename(columns={'rating':'avg_rating'})\n",
    "avg_movie_rating_all_data.head()"
   ]
  },
  {
   "cell_type": "code",
   "execution_count": 82,
   "metadata": {},
   "outputs": [
    {
     "data": {
      "text/html": [
       "<div>\n",
       "<style scoped>\n",
       "    .dataframe tbody tr th:only-of-type {\n",
       "        vertical-align: middle;\n",
       "    }\n",
       "\n",
       "    .dataframe tbody tr th {\n",
       "        vertical-align: top;\n",
       "    }\n",
       "\n",
       "    .dataframe thead th {\n",
       "        text-align: right;\n",
       "    }\n",
       "</style>\n",
       "<table border=\"1\" class=\"dataframe\">\n",
       "  <thead>\n",
       "    <tr style=\"text-align: right;\">\n",
       "      <th></th>\n",
       "      <th>userId</th>\n",
       "      <th>movieId</th>\n",
       "      <th>rating</th>\n",
       "      <th>movieId_model</th>\n",
       "      <th>userId_model</th>\n",
       "      <th>avg_rating</th>\n",
       "      <th>rating_for_svd</th>\n",
       "    </tr>\n",
       "  </thead>\n",
       "  <tbody>\n",
       "    <tr>\n",
       "      <th>0</th>\n",
       "      <td>214</td>\n",
       "      <td>307</td>\n",
       "      <td>4.0</td>\n",
       "      <td>0</td>\n",
       "      <td>0</td>\n",
       "      <td>3.833761</td>\n",
       "      <td>0.166239</td>\n",
       "    </tr>\n",
       "    <tr>\n",
       "      <th>1</th>\n",
       "      <td>214</td>\n",
       "      <td>481</td>\n",
       "      <td>3.0</td>\n",
       "      <td>1</td>\n",
       "      <td>0</td>\n",
       "      <td>3.192164</td>\n",
       "      <td>-0.192164</td>\n",
       "    </tr>\n",
       "    <tr>\n",
       "      <th>2</th>\n",
       "      <td>214</td>\n",
       "      <td>1590</td>\n",
       "      <td>3.0</td>\n",
       "      <td>2</td>\n",
       "      <td>0</td>\n",
       "      <td>2.823403</td>\n",
       "      <td>0.176597</td>\n",
       "    </tr>\n",
       "    <tr>\n",
       "      <th>3</th>\n",
       "      <td>214</td>\n",
       "      <td>2986</td>\n",
       "      <td>2.0</td>\n",
       "      <td>3</td>\n",
       "      <td>0</td>\n",
       "      <td>2.439843</td>\n",
       "      <td>-0.439843</td>\n",
       "    </tr>\n",
       "    <tr>\n",
       "      <th>4</th>\n",
       "      <td>214</td>\n",
       "      <td>3020</td>\n",
       "      <td>4.0</td>\n",
       "      <td>4</td>\n",
       "      <td>0</td>\n",
       "      <td>3.490952</td>\n",
       "      <td>0.509048</td>\n",
       "    </tr>\n",
       "  </tbody>\n",
       "</table>\n",
       "</div>"
      ],
      "text/plain": [
       "   userId  movieId  rating  movieId_model  userId_model  avg_rating  \\\n",
       "0     214      307     4.0              0             0    3.833761   \n",
       "1     214      481     3.0              1             0    3.192164   \n",
       "2     214     1590     3.0              2             0    2.823403   \n",
       "3     214     2986     2.0              3             0    2.439843   \n",
       "4     214     3020     4.0              4             0    3.490952   \n",
       "\n",
       "   rating_for_svd  \n",
       "0        0.166239  \n",
       "1       -0.192164  \n",
       "2        0.176597  \n",
       "3       -0.439843  \n",
       "4        0.509048  "
      ]
     },
     "execution_count": 82,
     "metadata": {},
     "output_type": "execute_result"
    }
   ],
   "source": [
    "data_1000 = pd.merge(data_1000, avg_movie_rating_all_data[['avg_rating','movieId_model']], how='left', on='movieId_model')\n",
    "data_1000['rating_for_svd'] = data_1000['rating'] - data_1000['avg_rating']\n",
    "data_1000.head()"
   ]
  },
  {
   "cell_type": "code",
   "execution_count": 83,
   "metadata": {},
   "outputs": [
    {
     "data": {
      "text/plain": [
       "<2782x3931 sparse matrix of type '<class 'numpy.float64'>'\n",
       "\twith 3161737 stored elements in Compressed Sparse Row format>"
      ]
     },
     "execution_count": 83,
     "metadata": {},
     "output_type": "execute_result"
    }
   ],
   "source": [
    "data_1000_csr = csr_matrix((data_1000['rating_for_svd'],\n",
    "                             (data_1000['userId_model'], data_1000['movieId_model']))) # rows = samples (ie users) and cols = features (ie movies)\n",
    "data_1000_csr"
   ]
  },
  {
   "cell_type": "code",
   "execution_count": 84,
   "metadata": {},
   "outputs": [
    {
     "name": "stdout",
     "output_type": "stream",
     "text": [
      "CPU times: user 26.2 s, sys: 5.26 s, total: 31.5 s\n",
      "Wall time: 4.19 s\n"
     ]
    },
    {
     "data": {
      "text/plain": [
       "TruncatedSVD(n_components=200, n_iter=10, random_state=0)"
      ]
     },
     "execution_count": 84,
     "metadata": {},
     "output_type": "execute_result"
    }
   ],
   "source": [
    "%%time\n",
    "svd = TruncatedSVD(n_components=200, n_iter=10, random_state=0)\n",
    "svd.fit(data_1000_csr)"
   ]
  },
  {
   "cell_type": "code",
   "execution_count": 85,
   "metadata": {},
   "outputs": [],
   "source": [
    "pickle.dump(svd, open('svd.sav','wb'))"
   ]
  },
  {
   "cell_type": "code",
   "execution_count": 86,
   "metadata": {},
   "outputs": [],
   "source": [
    "predict_ratings = np.matmul(svd.transform(data_1000_csr), svd.components_) # users/movies\n",
    "predictions = []\n",
    "for k in range(data_1000.shape[0]):\n",
    "    i = data_1000.iloc[k,4] # userId_model\n",
    "    j = data_1000.iloc[k,3] # movieId_model\n",
    "    predictions.append(predict_ratings[i,j] + data_1000.iloc[k,5]) #correction on avg\n",
    "RMSE = np.sqrt(mean_squared_error(data_1000['rating'], predictions))\n",
    "RMSE_baseline = np.sqrt(mean_squared_error(data_1000['rating'], data_1000['avg_rating']))\n",
    "MAE = mean_absolute_error(data_1000['rating'], predictions)\n",
    "MAE_baseline = mean_absolute_error(data_1000['rating'], data_1000['avg_rating'])    "
   ]
  },
  {
   "cell_type": "code",
   "execution_count": 88,
   "metadata": {},
   "outputs": [
    {
     "name": "stdout",
     "output_type": "stream",
     "text": [
      "\n",
      "*** Check of the performances on the whole dataset as train data ***\n",
      "RMSE : 0.22, RMSEbaseline : 0.91.\n",
      "MAE : 0.16, MAE_baseline : 0.71.\n"
     ]
    }
   ],
   "source": [
    "print('\\n*** Check of the performances on the whole dataset as train data ***')\n",
    "print('RMSE : {}, RMSEbaseline : {}.'.format(round(RMSE_train,2), round(RMSE_train_baseline,2)))\n",
    "print('MAE : {}, MAE_baseline : {}.'.format(round(MAE_train,2), round(MAE_train_baseline,2)))"
   ]
  },
  {
   "cell_type": "markdown",
   "metadata": {},
   "source": [
    "## 4. Export data for the implementation of the model"
   ]
  },
  {
   "cell_type": "markdown",
   "metadata": {},
   "source": [
    "#### In order to implement in the app the model trained in this notebook, we need to add to each movie in the database its average rating and its 'model_ID'."
   ]
  },
  {
   "cell_type": "code",
   "execution_count": 97,
   "metadata": {},
   "outputs": [],
   "source": [
    "# Record matches between movies pk in the database, movie id in the SVD model and movie average rating."
   ]
  },
  {
   "cell_type": "code",
   "execution_count": 93,
   "metadata": {},
   "outputs": [],
   "source": [
    "df_movie_id = pd.read_csv('data/MovieLens/ml-latest/links.csv', usecols=['movieId','imdbId'])"
   ]
  },
  {
   "cell_type": "code",
   "execution_count": 94,
   "metadata": {},
   "outputs": [
    {
     "data": {
      "text/html": [
       "<div>\n",
       "<style scoped>\n",
       "    .dataframe tbody tr th:only-of-type {\n",
       "        vertical-align: middle;\n",
       "    }\n",
       "\n",
       "    .dataframe tbody tr th {\n",
       "        vertical-align: top;\n",
       "    }\n",
       "\n",
       "    .dataframe thead th {\n",
       "        text-align: right;\n",
       "    }\n",
       "</style>\n",
       "<table border=\"1\" class=\"dataframe\">\n",
       "  <thead>\n",
       "    <tr style=\"text-align: right;\">\n",
       "      <th></th>\n",
       "      <th>movieId_model</th>\n",
       "      <th>imdb_title_id</th>\n",
       "      <th>avg_rating</th>\n",
       "    </tr>\n",
       "  </thead>\n",
       "  <tbody>\n",
       "    <tr>\n",
       "      <th>0</th>\n",
       "      <td>0</td>\n",
       "      <td>108394</td>\n",
       "      <td>3.833761</td>\n",
       "    </tr>\n",
       "    <tr>\n",
       "      <th>779</th>\n",
       "      <td>1</td>\n",
       "      <td>107302</td>\n",
       "      <td>3.192164</td>\n",
       "    </tr>\n",
       "    <tr>\n",
       "      <th>1583</th>\n",
       "      <td>2</td>\n",
       "      <td>119081</td>\n",
       "      <td>2.823403</td>\n",
       "    </tr>\n",
       "    <tr>\n",
       "      <th>2976</th>\n",
       "      <td>3</td>\n",
       "      <td>100502</td>\n",
       "      <td>2.439843</td>\n",
       "    </tr>\n",
       "    <tr>\n",
       "      <th>4123</th>\n",
       "      <td>4</td>\n",
       "      <td>106856</td>\n",
       "      <td>3.490952</td>\n",
       "    </tr>\n",
       "    <tr>\n",
       "      <th>...</th>\n",
       "      <td>...</td>\n",
       "      <td>...</td>\n",
       "      <td>...</td>\n",
       "    </tr>\n",
       "    <tr>\n",
       "      <th>3160514</th>\n",
       "      <td>3926</td>\n",
       "      <td>118750</td>\n",
       "      <td>2.356884</td>\n",
       "    </tr>\n",
       "    <tr>\n",
       "      <th>3160790</th>\n",
       "      <td>3927</td>\n",
       "      <td>115580</td>\n",
       "      <td>2.728571</td>\n",
       "    </tr>\n",
       "    <tr>\n",
       "      <th>3160965</th>\n",
       "      <td>3928</td>\n",
       "      <td>4368814</td>\n",
       "      <td>3.780000</td>\n",
       "    </tr>\n",
       "    <tr>\n",
       "      <th>3161165</th>\n",
       "      <td>3929</td>\n",
       "      <td>2120120</td>\n",
       "      <td>2.401316</td>\n",
       "    </tr>\n",
       "    <tr>\n",
       "      <th>3161469</th>\n",
       "      <td>3930</td>\n",
       "      <td>116839</td>\n",
       "      <td>1.625000</td>\n",
       "    </tr>\n",
       "  </tbody>\n",
       "</table>\n",
       "<p>3931 rows × 3 columns</p>\n",
       "</div>"
      ],
      "text/plain": [
       "         movieId_model  imdb_title_id  avg_rating\n",
       "0                    0         108394    3.833761\n",
       "779                  1         107302    3.192164\n",
       "1583                 2         119081    2.823403\n",
       "2976                 3         100502    2.439843\n",
       "4123                 4         106856    3.490952\n",
       "...                ...            ...         ...\n",
       "3160514           3926         118750    2.356884\n",
       "3160790           3927         115580    2.728571\n",
       "3160965           3928        4368814    3.780000\n",
       "3161165           3929        2120120    2.401316\n",
       "3161469           3930         116839    1.625000\n",
       "\n",
       "[3931 rows x 3 columns]"
      ]
     },
     "execution_count": 94,
     "metadata": {},
     "output_type": "execute_result"
    }
   ],
   "source": [
    "model_and_imdb = pd.merge(data_1000, df_movie_id, on='movieId')\n",
    "model_and_imdb = model_and_imdb[['movieId_model','imdbId', 'avg_rating']]\n",
    "model_and_imdb = model_and_imdb.rename(columns={'imdbId':'imdb_title_id'})\n",
    "model_and_imdb = model_and_imdb.drop_duplicates()\n",
    "model_and_imdb"
   ]
  },
  {
   "cell_type": "code",
   "execution_count": 98,
   "metadata": {},
   "outputs": [
    {
     "data": {
      "text/html": [
       "<div>\n",
       "<style scoped>\n",
       "    .dataframe tbody tr th:only-of-type {\n",
       "        vertical-align: middle;\n",
       "    }\n",
       "\n",
       "    .dataframe tbody tr th {\n",
       "        vertical-align: top;\n",
       "    }\n",
       "\n",
       "    .dataframe thead th {\n",
       "        text-align: right;\n",
       "    }\n",
       "</style>\n",
       "<table border=\"1\" class=\"dataframe\">\n",
       "  <thead>\n",
       "    <tr style=\"text-align: right;\">\n",
       "      <th></th>\n",
       "      <th>pk</th>\n",
       "      <th>imdb_title_id</th>\n",
       "    </tr>\n",
       "  </thead>\n",
       "  <tbody>\n",
       "    <tr>\n",
       "      <th>0</th>\n",
       "      <td>1</td>\n",
       "      <td>9</td>\n",
       "    </tr>\n",
       "    <tr>\n",
       "      <th>1</th>\n",
       "      <td>2</td>\n",
       "      <td>574</td>\n",
       "    </tr>\n",
       "    <tr>\n",
       "      <th>2</th>\n",
       "      <td>3</td>\n",
       "      <td>1892</td>\n",
       "    </tr>\n",
       "    <tr>\n",
       "      <th>3</th>\n",
       "      <td>4</td>\n",
       "      <td>2101</td>\n",
       "    </tr>\n",
       "    <tr>\n",
       "      <th>4</th>\n",
       "      <td>5</td>\n",
       "      <td>2130</td>\n",
       "    </tr>\n",
       "    <tr>\n",
       "      <th>...</th>\n",
       "      <td>...</td>\n",
       "      <td>...</td>\n",
       "    </tr>\n",
       "    <tr>\n",
       "      <th>85850</th>\n",
       "      <td>85851</td>\n",
       "      <td>9908390</td>\n",
       "    </tr>\n",
       "    <tr>\n",
       "      <th>85851</th>\n",
       "      <td>85852</td>\n",
       "      <td>9911196</td>\n",
       "    </tr>\n",
       "    <tr>\n",
       "      <th>85852</th>\n",
       "      <td>85853</td>\n",
       "      <td>9911774</td>\n",
       "    </tr>\n",
       "    <tr>\n",
       "      <th>85853</th>\n",
       "      <td>85854</td>\n",
       "      <td>9914286</td>\n",
       "    </tr>\n",
       "    <tr>\n",
       "      <th>85854</th>\n",
       "      <td>85855</td>\n",
       "      <td>9914942</td>\n",
       "    </tr>\n",
       "  </tbody>\n",
       "</table>\n",
       "<p>85855 rows × 2 columns</p>\n",
       "</div>"
      ],
      "text/plain": [
       "          pk  imdb_title_id\n",
       "0          1              9\n",
       "1          2            574\n",
       "2          3           1892\n",
       "3          4           2101\n",
       "4          5           2130\n",
       "...      ...            ...\n",
       "85850  85851        9908390\n",
       "85851  85852        9911196\n",
       "85852  85853        9911774\n",
       "85853  85854        9914286\n",
       "85854  85855        9914942\n",
       "\n",
       "[85855 rows x 2 columns]"
      ]
     },
     "execution_count": 98,
     "metadata": {},
     "output_type": "execute_result"
    }
   ],
   "source": [
    "pk_and_imdb = pd.read_json('data/data_for_app/movie_data.json')\n",
    "pk_and_imdb['imdb_title_id'] = pk_and_imdb['fields'].apply(lambda x : x['imdbid'])\n",
    "pk_and_imdb['imdb_title_id'] = pk_and_imdb['imdb_title_id'].apply(lambda x : int(x.replace('tt', '')))\n",
    "pk_and_imdb = pk_and_imdb[['pk','imdb_title_id']]\n",
    "pk_and_imdb"
   ]
  },
  {
   "cell_type": "code",
   "execution_count": 99,
   "metadata": {},
   "outputs": [
    {
     "data": {
      "text/plain": [
       "165      2769.0\n",
       "251      2537.0\n",
       "297       991.0\n",
       "401      2766.0\n",
       "415      2508.0\n",
       "          ...  \n",
       "77571    2365.0\n",
       "77666    2519.0\n",
       "77741    3042.0\n",
       "77748    3887.0\n",
       "78070    1186.0\n",
       "Name: movieId_model, Length: 3786, dtype: float64"
      ]
     },
     "execution_count": 99,
     "metadata": {},
     "output_type": "execute_result"
    }
   ],
   "source": [
    "id_to_export = pd.merge(pk_and_imdb, model_and_imdb, how='left')\n",
    "id_to_export['movieId_model'].dropna()"
   ]
  },
  {
   "cell_type": "code",
   "execution_count": 102,
   "metadata": {},
   "outputs": [],
   "source": [
    "# on each row we have :\n",
    "# 0 : index\n",
    "# 1 : movie pk in database\n",
    "# 2 : movie IMDB identifier\n",
    "# 3 : movie id model\n",
    "# 4 : movie average rating\n",
    "id_to_export.to_csv('modelIds_and_avgRatings.csv', header=None)"
   ]
  }
 ],
 "metadata": {
  "kernelspec": {
   "display_name": "Python 3",
   "language": "python",
   "name": "python3"
  },
  "language_info": {
   "codemirror_mode": {
    "name": "ipython",
    "version": 3
   },
   "file_extension": ".py",
   "mimetype": "text/x-python",
   "name": "python",
   "nbconvert_exporter": "python",
   "pygments_lexer": "ipython3",
   "version": "3.8.5"
  }
 },
 "nbformat": 4,
 "nbformat_minor": 4
}
